{
  "nbformat": 4,
  "nbformat_minor": 0,
  "metadata": {
    "kernelspec": {
      "display_name": "Python 3",
      "language": "python",
      "name": "python3"
    },
    "language_info": {
      "codemirror_mode": {
        "name": "ipython",
        "version": 3
      },
      "file_extension": ".py",
      "mimetype": "text/x-python",
      "name": "python",
      "nbconvert_exporter": "python",
      "pygments_lexer": "ipython3",
      "version": "3.6.3"
    },
    "colab": {
      "name": "assessing.ipynb",
      "provenance": []
    }
  },
  "cells": [
    {
      "cell_type": "markdown",
      "metadata": {
        "id": "VVl79HxRBrFE",
        "colab_type": "text"
      },
      "source": [
        "## Visual Assessment: Acquaint Yourself\n",
        "This Auralin Phase II clinical trial dataset comes in three tables: `patients`, `treatments`, and `adverse_reactions`. Acquaint yourself with them through visual assessment below."
      ]
    },
    {
      "cell_type": "markdown",
      "metadata": {
        "id": "D_W5VCiwBrFO",
        "colab_type": "text"
      },
      "source": [
        "### Gather"
      ]
    },
    {
      "cell_type": "code",
      "metadata": {
        "id": "QMrL3az6BzJe",
        "colab_type": "code",
        "outputId": "b1d88814-2270-43f5-e509-cf80c92429b5",
        "colab": {
          "base_uri": "https://localhost:8080/",
          "height": 119
        }
      },
      "source": [
        "!git clone https://github.com/CherifArsanious/assessing-cleaning-data.git"
      ],
      "execution_count": 1,
      "outputs": [
        {
          "output_type": "stream",
          "text": [
            "Cloning into 'assessing-cleaning-data'...\n",
            "remote: Enumerating objects: 15, done.\u001b[K\n",
            "remote: Counting objects:   6% (1/15)\u001b[K\rremote: Counting objects:  13% (2/15)\u001b[K\rremote: Counting objects:  20% (3/15)\u001b[K\rremote: Counting objects:  26% (4/15)\u001b[K\rremote: Counting objects:  33% (5/15)\u001b[K\rremote: Counting objects:  40% (6/15)\u001b[K\rremote: Counting objects:  46% (7/15)\u001b[K\rremote: Counting objects:  53% (8/15)\u001b[K\rremote: Counting objects:  60% (9/15)\u001b[K\rremote: Counting objects:  66% (10/15)\u001b[K\rremote: Counting objects:  73% (11/15)\u001b[K\rremote: Counting objects:  80% (12/15)\u001b[K\rremote: Counting objects:  86% (13/15)\u001b[K\rremote: Counting objects:  93% (14/15)\u001b[K\rremote: Counting objects: 100% (15/15)\u001b[K\rremote: Counting objects: 100% (15/15), done.\u001b[K\n",
            "remote: Compressing objects:   6% (1/15)\u001b[K\rremote: Compressing objects:  13% (2/15)\u001b[K\rremote: Compressing objects:  20% (3/15)\u001b[K\rremote: Compressing objects:  26% (4/15)\u001b[K\rremote: Compressing objects:  33% (5/15)\u001b[K\rremote: Compressing objects:  40% (6/15)\u001b[K\rremote: Compressing objects:  46% (7/15)\u001b[K\rremote: Compressing objects:  53% (8/15)\u001b[K\rremote: Compressing objects:  60% (9/15)\u001b[K\rremote: Compressing objects:  66% (10/15)\u001b[K\rremote: Compressing objects:  73% (11/15)\u001b[K\rremote: Compressing objects:  80% (12/15)\u001b[K\rremote: Compressing objects:  86% (13/15)\u001b[K\rremote: Compressing objects:  93% (14/15)\u001b[K\rremote: Compressing objects: 100% (15/15)\u001b[K\rremote: Compressing objects: 100% (15/15), done.\u001b[K\n",
            "Unpacking objects:   6% (1/15)   \rUnpacking objects:  13% (2/15)   \rUnpacking objects:  20% (3/15)   \rUnpacking objects:  26% (4/15)   \rUnpacking objects:  33% (5/15)   \rUnpacking objects:  40% (6/15)   \rUnpacking objects:  46% (7/15)   \rremote: Total 15 (delta 5), reused 0 (delta 0), pack-reused 0\u001b[K\n",
            "Unpacking objects:  53% (8/15)   \rUnpacking objects:  60% (9/15)   \rUnpacking objects:  66% (10/15)   \rUnpacking objects:  73% (11/15)   \rUnpacking objects:  80% (12/15)   \rUnpacking objects:  86% (13/15)   \rUnpacking objects:  93% (14/15)   \rUnpacking objects: 100% (15/15)   \rUnpacking objects: 100% (15/15), done.\n"
          ],
          "name": "stdout"
        }
      ]
    },
    {
      "cell_type": "code",
      "metadata": {
        "id": "sOwVaqUZBrFT",
        "colab_type": "code",
        "colab": {}
      },
      "source": [
        "import pandas as pd"
      ],
      "execution_count": 0,
      "outputs": []
    },
    {
      "cell_type": "code",
      "metadata": {
        "id": "vbptNBgXBrFj",
        "colab_type": "code",
        "colab": {}
      },
      "source": [
        "patients = pd.read_csv('assessing-cleaning-data/patients.csv')\n",
        "treatments = pd.read_csv('assessing-cleaning-data/treatments.csv')\n",
        "adverse_reactions = pd.read_csv('assessing-cleaning-data/adverse_reactions.csv')"
      ],
      "execution_count": 0,
      "outputs": []
    },
    {
      "cell_type": "markdown",
      "metadata": {
        "id": "XQAH-a7qBrFz",
        "colab_type": "text"
      },
      "source": [
        "### Assess\n",
        "In the cells below, each column of each table in this clinical trial dataset is described. To see the table that goes hand in hand with these descriptions, display each table in its entirety by displaying the pandas DataFrame that it was gathered into. This task is the mechanical part of visual assessment in pandas."
      ]
    },
    {
      "cell_type": "code",
      "metadata": {
        "id": "qT72q9B1BrF3",
        "colab_type": "code",
        "outputId": "dcb782c3-0ef3-43f0-c705-2bc6148a1e3e",
        "colab": {
          "base_uri": "https://localhost:8080/",
          "height": 779
        }
      },
      "source": [
        "# Display the patients table\n",
        "patients"
      ],
      "execution_count": 4,
      "outputs": [
        {
          "output_type": "execute_result",
          "data": {
            "text/html": [
              "<div>\n",
              "<style scoped>\n",
              "    .dataframe tbody tr th:only-of-type {\n",
              "        vertical-align: middle;\n",
              "    }\n",
              "\n",
              "    .dataframe tbody tr th {\n",
              "        vertical-align: top;\n",
              "    }\n",
              "\n",
              "    .dataframe thead th {\n",
              "        text-align: right;\n",
              "    }\n",
              "</style>\n",
              "<table border=\"1\" class=\"dataframe\">\n",
              "  <thead>\n",
              "    <tr style=\"text-align: right;\">\n",
              "      <th></th>\n",
              "      <th>patient_id</th>\n",
              "      <th>assigned_sex</th>\n",
              "      <th>given_name</th>\n",
              "      <th>surname</th>\n",
              "      <th>address</th>\n",
              "      <th>city</th>\n",
              "      <th>state</th>\n",
              "      <th>zip_code</th>\n",
              "      <th>country</th>\n",
              "      <th>contact</th>\n",
              "      <th>birthdate</th>\n",
              "      <th>weight</th>\n",
              "      <th>height</th>\n",
              "      <th>bmi</th>\n",
              "    </tr>\n",
              "  </thead>\n",
              "  <tbody>\n",
              "    <tr>\n",
              "      <th>0</th>\n",
              "      <td>1</td>\n",
              "      <td>female</td>\n",
              "      <td>Zoe</td>\n",
              "      <td>Wellish</td>\n",
              "      <td>576 Brown Bear Drive</td>\n",
              "      <td>Rancho California</td>\n",
              "      <td>California</td>\n",
              "      <td>92390.0</td>\n",
              "      <td>United States</td>\n",
              "      <td>951-719-9170ZoeWellish@superrito.com</td>\n",
              "      <td>7/10/1976</td>\n",
              "      <td>121.7</td>\n",
              "      <td>66</td>\n",
              "      <td>19.6</td>\n",
              "    </tr>\n",
              "    <tr>\n",
              "      <th>1</th>\n",
              "      <td>2</td>\n",
              "      <td>female</td>\n",
              "      <td>Pamela</td>\n",
              "      <td>Hill</td>\n",
              "      <td>2370 University Hill Road</td>\n",
              "      <td>Armstrong</td>\n",
              "      <td>Illinois</td>\n",
              "      <td>61812.0</td>\n",
              "      <td>United States</td>\n",
              "      <td>PamelaSHill@cuvox.de+1 (217) 569-3204</td>\n",
              "      <td>4/3/1967</td>\n",
              "      <td>118.8</td>\n",
              "      <td>66</td>\n",
              "      <td>19.2</td>\n",
              "    </tr>\n",
              "    <tr>\n",
              "      <th>2</th>\n",
              "      <td>3</td>\n",
              "      <td>male</td>\n",
              "      <td>Jae</td>\n",
              "      <td>Debord</td>\n",
              "      <td>1493 Poling Farm Road</td>\n",
              "      <td>York</td>\n",
              "      <td>Nebraska</td>\n",
              "      <td>68467.0</td>\n",
              "      <td>United States</td>\n",
              "      <td>402-363-6804JaeMDebord@gustr.com</td>\n",
              "      <td>2/19/1980</td>\n",
              "      <td>177.8</td>\n",
              "      <td>71</td>\n",
              "      <td>24.8</td>\n",
              "    </tr>\n",
              "    <tr>\n",
              "      <th>3</th>\n",
              "      <td>4</td>\n",
              "      <td>male</td>\n",
              "      <td>Liêm</td>\n",
              "      <td>Phan</td>\n",
              "      <td>2335 Webster Street</td>\n",
              "      <td>Woodbridge</td>\n",
              "      <td>NJ</td>\n",
              "      <td>7095.0</td>\n",
              "      <td>United States</td>\n",
              "      <td>PhanBaLiem@jourrapide.com+1 (732) 636-8246</td>\n",
              "      <td>7/26/1951</td>\n",
              "      <td>220.9</td>\n",
              "      <td>70</td>\n",
              "      <td>31.7</td>\n",
              "    </tr>\n",
              "    <tr>\n",
              "      <th>4</th>\n",
              "      <td>5</td>\n",
              "      <td>male</td>\n",
              "      <td>Tim</td>\n",
              "      <td>Neudorf</td>\n",
              "      <td>1428 Turkey Pen Lane</td>\n",
              "      <td>Dothan</td>\n",
              "      <td>AL</td>\n",
              "      <td>36303.0</td>\n",
              "      <td>United States</td>\n",
              "      <td>334-515-7487TimNeudorf@cuvox.de</td>\n",
              "      <td>2/18/1928</td>\n",
              "      <td>192.3</td>\n",
              "      <td>27</td>\n",
              "      <td>26.1</td>\n",
              "    </tr>\n",
              "    <tr>\n",
              "      <th>...</th>\n",
              "      <td>...</td>\n",
              "      <td>...</td>\n",
              "      <td>...</td>\n",
              "      <td>...</td>\n",
              "      <td>...</td>\n",
              "      <td>...</td>\n",
              "      <td>...</td>\n",
              "      <td>...</td>\n",
              "      <td>...</td>\n",
              "      <td>...</td>\n",
              "      <td>...</td>\n",
              "      <td>...</td>\n",
              "      <td>...</td>\n",
              "      <td>...</td>\n",
              "    </tr>\n",
              "    <tr>\n",
              "      <th>498</th>\n",
              "      <td>499</td>\n",
              "      <td>male</td>\n",
              "      <td>Mustafa</td>\n",
              "      <td>Lindström</td>\n",
              "      <td>2530 Victoria Court</td>\n",
              "      <td>Milton Mills</td>\n",
              "      <td>ME</td>\n",
              "      <td>3852.0</td>\n",
              "      <td>United States</td>\n",
              "      <td>207-477-0579MustafaLindstrom@jourrapide.com</td>\n",
              "      <td>4/10/1959</td>\n",
              "      <td>181.1</td>\n",
              "      <td>72</td>\n",
              "      <td>24.6</td>\n",
              "    </tr>\n",
              "    <tr>\n",
              "      <th>499</th>\n",
              "      <td>500</td>\n",
              "      <td>male</td>\n",
              "      <td>Ruman</td>\n",
              "      <td>Bisliev</td>\n",
              "      <td>494 Clarksburg Park Road</td>\n",
              "      <td>Sedona</td>\n",
              "      <td>AZ</td>\n",
              "      <td>86341.0</td>\n",
              "      <td>United States</td>\n",
              "      <td>928-284-4492RumanBisliev@gustr.com</td>\n",
              "      <td>3/26/1948</td>\n",
              "      <td>239.6</td>\n",
              "      <td>70</td>\n",
              "      <td>34.4</td>\n",
              "    </tr>\n",
              "    <tr>\n",
              "      <th>500</th>\n",
              "      <td>501</td>\n",
              "      <td>female</td>\n",
              "      <td>Jinke</td>\n",
              "      <td>de Keizer</td>\n",
              "      <td>649 Nutter Street</td>\n",
              "      <td>Overland Park</td>\n",
              "      <td>MO</td>\n",
              "      <td>64110.0</td>\n",
              "      <td>United States</td>\n",
              "      <td>816-223-6007JinkedeKeizer@teleworm.us</td>\n",
              "      <td>1/13/1971</td>\n",
              "      <td>171.2</td>\n",
              "      <td>67</td>\n",
              "      <td>26.8</td>\n",
              "    </tr>\n",
              "    <tr>\n",
              "      <th>501</th>\n",
              "      <td>502</td>\n",
              "      <td>female</td>\n",
              "      <td>Chidalu</td>\n",
              "      <td>Onyekaozulu</td>\n",
              "      <td>3652 Boone Crockett Lane</td>\n",
              "      <td>Seattle</td>\n",
              "      <td>WA</td>\n",
              "      <td>98109.0</td>\n",
              "      <td>United States</td>\n",
              "      <td>ChidaluOnyekaozulu@jourrapide.com1 360 443 2060</td>\n",
              "      <td>2/13/1952</td>\n",
              "      <td>176.9</td>\n",
              "      <td>67</td>\n",
              "      <td>27.7</td>\n",
              "    </tr>\n",
              "    <tr>\n",
              "      <th>502</th>\n",
              "      <td>503</td>\n",
              "      <td>male</td>\n",
              "      <td>Pat</td>\n",
              "      <td>Gersten</td>\n",
              "      <td>2778 North Avenue</td>\n",
              "      <td>Burr</td>\n",
              "      <td>Nebraska</td>\n",
              "      <td>68324.0</td>\n",
              "      <td>United States</td>\n",
              "      <td>PatrickGersten@rhyta.com402-848-4923</td>\n",
              "      <td>5/3/1954</td>\n",
              "      <td>138.2</td>\n",
              "      <td>71</td>\n",
              "      <td>19.3</td>\n",
              "    </tr>\n",
              "  </tbody>\n",
              "</table>\n",
              "<p>503 rows × 14 columns</p>\n",
              "</div>"
            ],
            "text/plain": [
              "     patient_id assigned_sex given_name  ... weight height   bmi\n",
              "0             1       female        Zoe  ...  121.7     66  19.6\n",
              "1             2       female     Pamela  ...  118.8     66  19.2\n",
              "2             3         male        Jae  ...  177.8     71  24.8\n",
              "3             4         male       Liêm  ...  220.9     70  31.7\n",
              "4             5         male        Tim  ...  192.3     27  26.1\n",
              "..          ...          ...        ...  ...    ...    ...   ...\n",
              "498         499         male    Mustafa  ...  181.1     72  24.6\n",
              "499         500         male      Ruman  ...  239.6     70  34.4\n",
              "500         501       female      Jinke  ...  171.2     67  26.8\n",
              "501         502       female    Chidalu  ...  176.9     67  27.7\n",
              "502         503         male        Pat  ...  138.2     71  19.3\n",
              "\n",
              "[503 rows x 14 columns]"
            ]
          },
          "metadata": {
            "tags": []
          },
          "execution_count": 4
        }
      ]
    },
    {
      "cell_type": "markdown",
      "metadata": {
        "id": "TRL7aSetBrGH",
        "colab_type": "text"
      },
      "source": [
        "`patients` columns:\n",
        "- **patient_id**: the unique identifier for each patient in the [Master Patient Index](https://en.wikipedia.org/wiki/Enterprise_master_patient_index) (i.e. patient database) of the pharmaceutical company that is producing Auralin\n",
        "- **assigned_sex**: the assigned sex of each patient at birth (male or female)\n",
        "- **given_name**: the given name (i.e. first name) of each patient\n",
        "- **surname**: the surname (i.e. last name) of each patient\n",
        "- **address**: the main address for each patient\n",
        "- **city**: the corresponding city for the main address of each patient\n",
        "- **state**: the corresponding state for the main address of each patient\n",
        "- **zip_code**: the corresponding zip code for the main address of each patient\n",
        "- **country**: the corresponding country for the main address of each patient (all United states for this clinical trial)\n",
        "- **contact**: phone number and email information for each patient\n",
        "- **birthdate**: the date of birth of each patient (month/day/year). The [inclusion criteria](https://en.wikipedia.org/wiki/Inclusion_and_exclusion_criteria) for this clinical trial is  age >= 18 *(there is no maximum age because diabetes is a [growing problem](http://www.diabetes.co.uk/diabetes-and-the-elderly.html) among the elderly population)*\n",
        "- **weight**: the weight of each patient in pounds (lbs)\n",
        "- **height**: the height of each patient in inches (in)\n",
        "- **bmi**: the Body Mass Index (BMI) of each patient. BMI is a simple calculation using a person's height and weight. The formula is BMI = kg/m<sup>2</sup> where kg is a person's weight in kilograms and m<sup>2</sup> is their height in metres squared. A BMI of 25.0 or more is overweight, while the healthy range is 18.5 to 24.9. *The [inclusion criteria](https://en.wikipedia.org/wiki/Inclusion_and_exclusion_criteria) for this clinical trial is 16 >= BMI >= 38.*"
      ]
    },
    {
      "cell_type": "code",
      "metadata": {
        "id": "p07W-Za3dnY7",
        "colab_type": "code",
        "outputId": "10cee062-bc48-4185-b3b5-90be8dcc039a",
        "colab": {
          "base_uri": "https://localhost:8080/",
          "height": 428
        }
      },
      "source": [
        "patients.head()"
      ],
      "execution_count": 5,
      "outputs": [
        {
          "output_type": "execute_result",
          "data": {
            "text/html": [
              "<div>\n",
              "<style scoped>\n",
              "    .dataframe tbody tr th:only-of-type {\n",
              "        vertical-align: middle;\n",
              "    }\n",
              "\n",
              "    .dataframe tbody tr th {\n",
              "        vertical-align: top;\n",
              "    }\n",
              "\n",
              "    .dataframe thead th {\n",
              "        text-align: right;\n",
              "    }\n",
              "</style>\n",
              "<table border=\"1\" class=\"dataframe\">\n",
              "  <thead>\n",
              "    <tr style=\"text-align: right;\">\n",
              "      <th></th>\n",
              "      <th>patient_id</th>\n",
              "      <th>assigned_sex</th>\n",
              "      <th>given_name</th>\n",
              "      <th>surname</th>\n",
              "      <th>address</th>\n",
              "      <th>city</th>\n",
              "      <th>state</th>\n",
              "      <th>zip_code</th>\n",
              "      <th>country</th>\n",
              "      <th>contact</th>\n",
              "      <th>birthdate</th>\n",
              "      <th>weight</th>\n",
              "      <th>height</th>\n",
              "      <th>bmi</th>\n",
              "    </tr>\n",
              "  </thead>\n",
              "  <tbody>\n",
              "    <tr>\n",
              "      <th>0</th>\n",
              "      <td>1</td>\n",
              "      <td>female</td>\n",
              "      <td>Zoe</td>\n",
              "      <td>Wellish</td>\n",
              "      <td>576 Brown Bear Drive</td>\n",
              "      <td>Rancho California</td>\n",
              "      <td>California</td>\n",
              "      <td>92390.0</td>\n",
              "      <td>United States</td>\n",
              "      <td>951-719-9170ZoeWellish@superrito.com</td>\n",
              "      <td>7/10/1976</td>\n",
              "      <td>121.7</td>\n",
              "      <td>66</td>\n",
              "      <td>19.6</td>\n",
              "    </tr>\n",
              "    <tr>\n",
              "      <th>1</th>\n",
              "      <td>2</td>\n",
              "      <td>female</td>\n",
              "      <td>Pamela</td>\n",
              "      <td>Hill</td>\n",
              "      <td>2370 University Hill Road</td>\n",
              "      <td>Armstrong</td>\n",
              "      <td>Illinois</td>\n",
              "      <td>61812.0</td>\n",
              "      <td>United States</td>\n",
              "      <td>PamelaSHill@cuvox.de+1 (217) 569-3204</td>\n",
              "      <td>4/3/1967</td>\n",
              "      <td>118.8</td>\n",
              "      <td>66</td>\n",
              "      <td>19.2</td>\n",
              "    </tr>\n",
              "    <tr>\n",
              "      <th>2</th>\n",
              "      <td>3</td>\n",
              "      <td>male</td>\n",
              "      <td>Jae</td>\n",
              "      <td>Debord</td>\n",
              "      <td>1493 Poling Farm Road</td>\n",
              "      <td>York</td>\n",
              "      <td>Nebraska</td>\n",
              "      <td>68467.0</td>\n",
              "      <td>United States</td>\n",
              "      <td>402-363-6804JaeMDebord@gustr.com</td>\n",
              "      <td>2/19/1980</td>\n",
              "      <td>177.8</td>\n",
              "      <td>71</td>\n",
              "      <td>24.8</td>\n",
              "    </tr>\n",
              "    <tr>\n",
              "      <th>3</th>\n",
              "      <td>4</td>\n",
              "      <td>male</td>\n",
              "      <td>Liêm</td>\n",
              "      <td>Phan</td>\n",
              "      <td>2335 Webster Street</td>\n",
              "      <td>Woodbridge</td>\n",
              "      <td>NJ</td>\n",
              "      <td>7095.0</td>\n",
              "      <td>United States</td>\n",
              "      <td>PhanBaLiem@jourrapide.com+1 (732) 636-8246</td>\n",
              "      <td>7/26/1951</td>\n",
              "      <td>220.9</td>\n",
              "      <td>70</td>\n",
              "      <td>31.7</td>\n",
              "    </tr>\n",
              "    <tr>\n",
              "      <th>4</th>\n",
              "      <td>5</td>\n",
              "      <td>male</td>\n",
              "      <td>Tim</td>\n",
              "      <td>Neudorf</td>\n",
              "      <td>1428 Turkey Pen Lane</td>\n",
              "      <td>Dothan</td>\n",
              "      <td>AL</td>\n",
              "      <td>36303.0</td>\n",
              "      <td>United States</td>\n",
              "      <td>334-515-7487TimNeudorf@cuvox.de</td>\n",
              "      <td>2/18/1928</td>\n",
              "      <td>192.3</td>\n",
              "      <td>27</td>\n",
              "      <td>26.1</td>\n",
              "    </tr>\n",
              "  </tbody>\n",
              "</table>\n",
              "</div>"
            ],
            "text/plain": [
              "   patient_id assigned_sex given_name  surname  ...  birthdate weight height   bmi\n",
              "0           1       female        Zoe  Wellish  ...  7/10/1976  121.7     66  19.6\n",
              "1           2       female     Pamela     Hill  ...   4/3/1967  118.8     66  19.2\n",
              "2           3         male        Jae   Debord  ...  2/19/1980  177.8     71  24.8\n",
              "3           4         male       Liêm     Phan  ...  7/26/1951  220.9     70  31.7\n",
              "4           5         male        Tim  Neudorf  ...  2/18/1928  192.3     27  26.1\n",
              "\n",
              "[5 rows x 14 columns]"
            ]
          },
          "metadata": {
            "tags": []
          },
          "execution_count": 5
        }
      ]
    },
    {
      "cell_type": "code",
      "metadata": {
        "id": "_rHnurP0dvyt",
        "colab_type": "code",
        "outputId": "e203e40a-9f2b-4739-8fe6-4e8d0e780a16",
        "colab": {
          "base_uri": "https://localhost:8080/",
          "height": 394
        }
      },
      "source": [
        "patients.tail()"
      ],
      "execution_count": 6,
      "outputs": [
        {
          "output_type": "execute_result",
          "data": {
            "text/html": [
              "<div>\n",
              "<style scoped>\n",
              "    .dataframe tbody tr th:only-of-type {\n",
              "        vertical-align: middle;\n",
              "    }\n",
              "\n",
              "    .dataframe tbody tr th {\n",
              "        vertical-align: top;\n",
              "    }\n",
              "\n",
              "    .dataframe thead th {\n",
              "        text-align: right;\n",
              "    }\n",
              "</style>\n",
              "<table border=\"1\" class=\"dataframe\">\n",
              "  <thead>\n",
              "    <tr style=\"text-align: right;\">\n",
              "      <th></th>\n",
              "      <th>patient_id</th>\n",
              "      <th>assigned_sex</th>\n",
              "      <th>given_name</th>\n",
              "      <th>surname</th>\n",
              "      <th>address</th>\n",
              "      <th>city</th>\n",
              "      <th>state</th>\n",
              "      <th>zip_code</th>\n",
              "      <th>country</th>\n",
              "      <th>contact</th>\n",
              "      <th>birthdate</th>\n",
              "      <th>weight</th>\n",
              "      <th>height</th>\n",
              "      <th>bmi</th>\n",
              "    </tr>\n",
              "  </thead>\n",
              "  <tbody>\n",
              "    <tr>\n",
              "      <th>498</th>\n",
              "      <td>499</td>\n",
              "      <td>male</td>\n",
              "      <td>Mustafa</td>\n",
              "      <td>Lindström</td>\n",
              "      <td>2530 Victoria Court</td>\n",
              "      <td>Milton Mills</td>\n",
              "      <td>ME</td>\n",
              "      <td>3852.0</td>\n",
              "      <td>United States</td>\n",
              "      <td>207-477-0579MustafaLindstrom@jourrapide.com</td>\n",
              "      <td>4/10/1959</td>\n",
              "      <td>181.1</td>\n",
              "      <td>72</td>\n",
              "      <td>24.6</td>\n",
              "    </tr>\n",
              "    <tr>\n",
              "      <th>499</th>\n",
              "      <td>500</td>\n",
              "      <td>male</td>\n",
              "      <td>Ruman</td>\n",
              "      <td>Bisliev</td>\n",
              "      <td>494 Clarksburg Park Road</td>\n",
              "      <td>Sedona</td>\n",
              "      <td>AZ</td>\n",
              "      <td>86341.0</td>\n",
              "      <td>United States</td>\n",
              "      <td>928-284-4492RumanBisliev@gustr.com</td>\n",
              "      <td>3/26/1948</td>\n",
              "      <td>239.6</td>\n",
              "      <td>70</td>\n",
              "      <td>34.4</td>\n",
              "    </tr>\n",
              "    <tr>\n",
              "      <th>500</th>\n",
              "      <td>501</td>\n",
              "      <td>female</td>\n",
              "      <td>Jinke</td>\n",
              "      <td>de Keizer</td>\n",
              "      <td>649 Nutter Street</td>\n",
              "      <td>Overland Park</td>\n",
              "      <td>MO</td>\n",
              "      <td>64110.0</td>\n",
              "      <td>United States</td>\n",
              "      <td>816-223-6007JinkedeKeizer@teleworm.us</td>\n",
              "      <td>1/13/1971</td>\n",
              "      <td>171.2</td>\n",
              "      <td>67</td>\n",
              "      <td>26.8</td>\n",
              "    </tr>\n",
              "    <tr>\n",
              "      <th>501</th>\n",
              "      <td>502</td>\n",
              "      <td>female</td>\n",
              "      <td>Chidalu</td>\n",
              "      <td>Onyekaozulu</td>\n",
              "      <td>3652 Boone Crockett Lane</td>\n",
              "      <td>Seattle</td>\n",
              "      <td>WA</td>\n",
              "      <td>98109.0</td>\n",
              "      <td>United States</td>\n",
              "      <td>ChidaluOnyekaozulu@jourrapide.com1 360 443 2060</td>\n",
              "      <td>2/13/1952</td>\n",
              "      <td>176.9</td>\n",
              "      <td>67</td>\n",
              "      <td>27.7</td>\n",
              "    </tr>\n",
              "    <tr>\n",
              "      <th>502</th>\n",
              "      <td>503</td>\n",
              "      <td>male</td>\n",
              "      <td>Pat</td>\n",
              "      <td>Gersten</td>\n",
              "      <td>2778 North Avenue</td>\n",
              "      <td>Burr</td>\n",
              "      <td>Nebraska</td>\n",
              "      <td>68324.0</td>\n",
              "      <td>United States</td>\n",
              "      <td>PatrickGersten@rhyta.com402-848-4923</td>\n",
              "      <td>5/3/1954</td>\n",
              "      <td>138.2</td>\n",
              "      <td>71</td>\n",
              "      <td>19.3</td>\n",
              "    </tr>\n",
              "  </tbody>\n",
              "</table>\n",
              "</div>"
            ],
            "text/plain": [
              "     patient_id assigned_sex given_name  ... weight height   bmi\n",
              "498         499         male    Mustafa  ...  181.1     72  24.6\n",
              "499         500         male      Ruman  ...  239.6     70  34.4\n",
              "500         501       female      Jinke  ...  171.2     67  26.8\n",
              "501         502       female    Chidalu  ...  176.9     67  27.7\n",
              "502         503         male        Pat  ...  138.2     71  19.3\n",
              "\n",
              "[5 rows x 14 columns]"
            ]
          },
          "metadata": {
            "tags": []
          },
          "execution_count": 6
        }
      ]
    },
    {
      "cell_type": "code",
      "metadata": {
        "id": "hk4bQBjYd0zL",
        "colab_type": "code",
        "outputId": "816272f4-7cbb-442c-d2ea-2b80f7affe56",
        "colab": {
          "base_uri": "https://localhost:8080/",
          "height": 134
        }
      },
      "source": [
        "patients.sample()"
      ],
      "execution_count": 7,
      "outputs": [
        {
          "output_type": "execute_result",
          "data": {
            "text/html": [
              "<div>\n",
              "<style scoped>\n",
              "    .dataframe tbody tr th:only-of-type {\n",
              "        vertical-align: middle;\n",
              "    }\n",
              "\n",
              "    .dataframe tbody tr th {\n",
              "        vertical-align: top;\n",
              "    }\n",
              "\n",
              "    .dataframe thead th {\n",
              "        text-align: right;\n",
              "    }\n",
              "</style>\n",
              "<table border=\"1\" class=\"dataframe\">\n",
              "  <thead>\n",
              "    <tr style=\"text-align: right;\">\n",
              "      <th></th>\n",
              "      <th>patient_id</th>\n",
              "      <th>assigned_sex</th>\n",
              "      <th>given_name</th>\n",
              "      <th>surname</th>\n",
              "      <th>address</th>\n",
              "      <th>city</th>\n",
              "      <th>state</th>\n",
              "      <th>zip_code</th>\n",
              "      <th>country</th>\n",
              "      <th>contact</th>\n",
              "      <th>birthdate</th>\n",
              "      <th>weight</th>\n",
              "      <th>height</th>\n",
              "      <th>bmi</th>\n",
              "    </tr>\n",
              "  </thead>\n",
              "  <tbody>\n",
              "    <tr>\n",
              "      <th>491</th>\n",
              "      <td>492</td>\n",
              "      <td>female</td>\n",
              "      <td>Vanessa</td>\n",
              "      <td>Ferguson</td>\n",
              "      <td>241 Freshour Circle</td>\n",
              "      <td>San Antonio</td>\n",
              "      <td>TX</td>\n",
              "      <td>78205.0</td>\n",
              "      <td>United States</td>\n",
              "      <td>210-222-8684VanessaFerguson@jourrapide.com</td>\n",
              "      <td>9/21/1950</td>\n",
              "      <td>149.8</td>\n",
              "      <td>67</td>\n",
              "      <td>23.5</td>\n",
              "    </tr>\n",
              "  </tbody>\n",
              "</table>\n",
              "</div>"
            ],
            "text/plain": [
              "     patient_id assigned_sex given_name  ... weight height   bmi\n",
              "491         492       female    Vanessa  ...  149.8     67  23.5\n",
              "\n",
              "[1 rows x 14 columns]"
            ]
          },
          "metadata": {
            "tags": []
          },
          "execution_count": 7
        }
      ]
    },
    {
      "cell_type": "code",
      "metadata": {
        "id": "rZLIYOeCd6rX",
        "colab_type": "code",
        "outputId": "ced940d3-fdca-4f00-ed14-693df016d24e",
        "colab": {
          "base_uri": "https://localhost:8080/",
          "height": 340
        }
      },
      "source": [
        "patients.info()"
      ],
      "execution_count": 8,
      "outputs": [
        {
          "output_type": "stream",
          "text": [
            "<class 'pandas.core.frame.DataFrame'>\n",
            "RangeIndex: 503 entries, 0 to 502\n",
            "Data columns (total 14 columns):\n",
            "patient_id      503 non-null int64\n",
            "assigned_sex    503 non-null object\n",
            "given_name      503 non-null object\n",
            "surname         503 non-null object\n",
            "address         491 non-null object\n",
            "city            491 non-null object\n",
            "state           491 non-null object\n",
            "zip_code        491 non-null float64\n",
            "country         491 non-null object\n",
            "contact         491 non-null object\n",
            "birthdate       503 non-null object\n",
            "weight          503 non-null float64\n",
            "height          503 non-null int64\n",
            "bmi             503 non-null float64\n",
            "dtypes: float64(3), int64(2), object(9)\n",
            "memory usage: 55.1+ KB\n"
          ],
          "name": "stdout"
        }
      ]
    },
    {
      "cell_type": "code",
      "metadata": {
        "id": "BPNVFsQEeBKO",
        "colab_type": "code",
        "outputId": "659981e7-31bf-49c6-9333-8e60a9670206",
        "colab": {
          "base_uri": "https://localhost:8080/",
          "height": 297
        }
      },
      "source": [
        "patients.describe()"
      ],
      "execution_count": 9,
      "outputs": [
        {
          "output_type": "execute_result",
          "data": {
            "text/html": [
              "<div>\n",
              "<style scoped>\n",
              "    .dataframe tbody tr th:only-of-type {\n",
              "        vertical-align: middle;\n",
              "    }\n",
              "\n",
              "    .dataframe tbody tr th {\n",
              "        vertical-align: top;\n",
              "    }\n",
              "\n",
              "    .dataframe thead th {\n",
              "        text-align: right;\n",
              "    }\n",
              "</style>\n",
              "<table border=\"1\" class=\"dataframe\">\n",
              "  <thead>\n",
              "    <tr style=\"text-align: right;\">\n",
              "      <th></th>\n",
              "      <th>patient_id</th>\n",
              "      <th>zip_code</th>\n",
              "      <th>weight</th>\n",
              "      <th>height</th>\n",
              "      <th>bmi</th>\n",
              "    </tr>\n",
              "  </thead>\n",
              "  <tbody>\n",
              "    <tr>\n",
              "      <th>count</th>\n",
              "      <td>503.000000</td>\n",
              "      <td>491.000000</td>\n",
              "      <td>503.000000</td>\n",
              "      <td>503.000000</td>\n",
              "      <td>503.000000</td>\n",
              "    </tr>\n",
              "    <tr>\n",
              "      <th>mean</th>\n",
              "      <td>252.000000</td>\n",
              "      <td>49084.118126</td>\n",
              "      <td>173.434990</td>\n",
              "      <td>66.634195</td>\n",
              "      <td>27.483897</td>\n",
              "    </tr>\n",
              "    <tr>\n",
              "      <th>std</th>\n",
              "      <td>145.347859</td>\n",
              "      <td>30265.807442</td>\n",
              "      <td>33.916741</td>\n",
              "      <td>4.411297</td>\n",
              "      <td>5.276438</td>\n",
              "    </tr>\n",
              "    <tr>\n",
              "      <th>min</th>\n",
              "      <td>1.000000</td>\n",
              "      <td>1002.000000</td>\n",
              "      <td>48.800000</td>\n",
              "      <td>27.000000</td>\n",
              "      <td>17.100000</td>\n",
              "    </tr>\n",
              "    <tr>\n",
              "      <th>25%</th>\n",
              "      <td>126.500000</td>\n",
              "      <td>21920.500000</td>\n",
              "      <td>149.300000</td>\n",
              "      <td>63.000000</td>\n",
              "      <td>23.300000</td>\n",
              "    </tr>\n",
              "    <tr>\n",
              "      <th>50%</th>\n",
              "      <td>252.000000</td>\n",
              "      <td>48057.000000</td>\n",
              "      <td>175.300000</td>\n",
              "      <td>67.000000</td>\n",
              "      <td>27.200000</td>\n",
              "    </tr>\n",
              "    <tr>\n",
              "      <th>75%</th>\n",
              "      <td>377.500000</td>\n",
              "      <td>75679.000000</td>\n",
              "      <td>199.500000</td>\n",
              "      <td>70.000000</td>\n",
              "      <td>31.750000</td>\n",
              "    </tr>\n",
              "    <tr>\n",
              "      <th>max</th>\n",
              "      <td>503.000000</td>\n",
              "      <td>99701.000000</td>\n",
              "      <td>255.900000</td>\n",
              "      <td>79.000000</td>\n",
              "      <td>37.700000</td>\n",
              "    </tr>\n",
              "  </tbody>\n",
              "</table>\n",
              "</div>"
            ],
            "text/plain": [
              "       patient_id      zip_code      weight      height         bmi\n",
              "count  503.000000    491.000000  503.000000  503.000000  503.000000\n",
              "mean   252.000000  49084.118126  173.434990   66.634195   27.483897\n",
              "std    145.347859  30265.807442   33.916741    4.411297    5.276438\n",
              "min      1.000000   1002.000000   48.800000   27.000000   17.100000\n",
              "25%    126.500000  21920.500000  149.300000   63.000000   23.300000\n",
              "50%    252.000000  48057.000000  175.300000   67.000000   27.200000\n",
              "75%    377.500000  75679.000000  199.500000   70.000000   31.750000\n",
              "max    503.000000  99701.000000  255.900000   79.000000   37.700000"
            ]
          },
          "metadata": {
            "tags": []
          },
          "execution_count": 9
        }
      ]
    },
    {
      "cell_type": "code",
      "metadata": {
        "scrolled": true,
        "id": "Sy1uzWGIBrGN",
        "colab_type": "code",
        "outputId": "efa538b2-ee0e-47ce-bcf1-07f8bd97d927",
        "colab": {
          "base_uri": "https://localhost:8080/",
          "height": 609
        }
      },
      "source": [
        "# Display the treatments table\n",
        "treatments"
      ],
      "execution_count": 10,
      "outputs": [
        {
          "output_type": "execute_result",
          "data": {
            "text/html": [
              "<div>\n",
              "<style scoped>\n",
              "    .dataframe tbody tr th:only-of-type {\n",
              "        vertical-align: middle;\n",
              "    }\n",
              "\n",
              "    .dataframe tbody tr th {\n",
              "        vertical-align: top;\n",
              "    }\n",
              "\n",
              "    .dataframe thead th {\n",
              "        text-align: right;\n",
              "    }\n",
              "</style>\n",
              "<table border=\"1\" class=\"dataframe\">\n",
              "  <thead>\n",
              "    <tr style=\"text-align: right;\">\n",
              "      <th></th>\n",
              "      <th>given_name</th>\n",
              "      <th>surname</th>\n",
              "      <th>auralin</th>\n",
              "      <th>novodra</th>\n",
              "      <th>hba1c_start</th>\n",
              "      <th>hba1c_end</th>\n",
              "      <th>hba1c_change</th>\n",
              "    </tr>\n",
              "  </thead>\n",
              "  <tbody>\n",
              "    <tr>\n",
              "      <th>0</th>\n",
              "      <td>veronika</td>\n",
              "      <td>jindrová</td>\n",
              "      <td>41u - 48u</td>\n",
              "      <td>-</td>\n",
              "      <td>7.63</td>\n",
              "      <td>7.20</td>\n",
              "      <td>NaN</td>\n",
              "    </tr>\n",
              "    <tr>\n",
              "      <th>1</th>\n",
              "      <td>elliot</td>\n",
              "      <td>richardson</td>\n",
              "      <td>-</td>\n",
              "      <td>40u - 45u</td>\n",
              "      <td>7.56</td>\n",
              "      <td>7.09</td>\n",
              "      <td>0.97</td>\n",
              "    </tr>\n",
              "    <tr>\n",
              "      <th>2</th>\n",
              "      <td>yukitaka</td>\n",
              "      <td>takenaka</td>\n",
              "      <td>-</td>\n",
              "      <td>39u - 36u</td>\n",
              "      <td>7.68</td>\n",
              "      <td>7.25</td>\n",
              "      <td>NaN</td>\n",
              "    </tr>\n",
              "    <tr>\n",
              "      <th>3</th>\n",
              "      <td>skye</td>\n",
              "      <td>gormanston</td>\n",
              "      <td>33u - 36u</td>\n",
              "      <td>-</td>\n",
              "      <td>7.97</td>\n",
              "      <td>7.62</td>\n",
              "      <td>0.35</td>\n",
              "    </tr>\n",
              "    <tr>\n",
              "      <th>4</th>\n",
              "      <td>alissa</td>\n",
              "      <td>montez</td>\n",
              "      <td>-</td>\n",
              "      <td>33u - 29u</td>\n",
              "      <td>7.78</td>\n",
              "      <td>7.46</td>\n",
              "      <td>0.32</td>\n",
              "    </tr>\n",
              "    <tr>\n",
              "      <th>...</th>\n",
              "      <td>...</td>\n",
              "      <td>...</td>\n",
              "      <td>...</td>\n",
              "      <td>...</td>\n",
              "      <td>...</td>\n",
              "      <td>...</td>\n",
              "      <td>...</td>\n",
              "    </tr>\n",
              "    <tr>\n",
              "      <th>275</th>\n",
              "      <td>albina</td>\n",
              "      <td>zetticci</td>\n",
              "      <td>45u - 51u</td>\n",
              "      <td>-</td>\n",
              "      <td>7.93</td>\n",
              "      <td>7.73</td>\n",
              "      <td>0.20</td>\n",
              "    </tr>\n",
              "    <tr>\n",
              "      <th>276</th>\n",
              "      <td>john</td>\n",
              "      <td>teichelmann</td>\n",
              "      <td>-</td>\n",
              "      <td>49u - 49u</td>\n",
              "      <td>7.90</td>\n",
              "      <td>7.58</td>\n",
              "      <td>NaN</td>\n",
              "    </tr>\n",
              "    <tr>\n",
              "      <th>277</th>\n",
              "      <td>mathea</td>\n",
              "      <td>lillebø</td>\n",
              "      <td>23u - 36u</td>\n",
              "      <td>-</td>\n",
              "      <td>9.04</td>\n",
              "      <td>8.67</td>\n",
              "      <td>0.37</td>\n",
              "    </tr>\n",
              "    <tr>\n",
              "      <th>278</th>\n",
              "      <td>vallie</td>\n",
              "      <td>prince</td>\n",
              "      <td>31u - 38u</td>\n",
              "      <td>-</td>\n",
              "      <td>7.64</td>\n",
              "      <td>7.28</td>\n",
              "      <td>0.36</td>\n",
              "    </tr>\n",
              "    <tr>\n",
              "      <th>279</th>\n",
              "      <td>samúel</td>\n",
              "      <td>guðbrandsson</td>\n",
              "      <td>53u - 56u</td>\n",
              "      <td>-</td>\n",
              "      <td>8.00</td>\n",
              "      <td>7.64</td>\n",
              "      <td>0.36</td>\n",
              "    </tr>\n",
              "  </tbody>\n",
              "</table>\n",
              "<p>280 rows × 7 columns</p>\n",
              "</div>"
            ],
            "text/plain": [
              "    given_name       surname    auralin  ... hba1c_start  hba1c_end  hba1c_change\n",
              "0     veronika      jindrová  41u - 48u  ...        7.63       7.20           NaN\n",
              "1       elliot    richardson          -  ...        7.56       7.09          0.97\n",
              "2     yukitaka      takenaka          -  ...        7.68       7.25           NaN\n",
              "3         skye    gormanston  33u - 36u  ...        7.97       7.62          0.35\n",
              "4       alissa        montez          -  ...        7.78       7.46          0.32\n",
              "..         ...           ...        ...  ...         ...        ...           ...\n",
              "275     albina      zetticci  45u - 51u  ...        7.93       7.73          0.20\n",
              "276       john   teichelmann          -  ...        7.90       7.58           NaN\n",
              "277     mathea       lillebø  23u - 36u  ...        9.04       8.67          0.37\n",
              "278     vallie        prince  31u - 38u  ...        7.64       7.28          0.36\n",
              "279     samúel  guðbrandsson  53u - 56u  ...        8.00       7.64          0.36\n",
              "\n",
              "[280 rows x 7 columns]"
            ]
          },
          "metadata": {
            "tags": []
          },
          "execution_count": 10
        }
      ]
    },
    {
      "cell_type": "code",
      "metadata": {
        "id": "s82KMIeBds6D",
        "colab_type": "code",
        "outputId": "fc76c697-b3a6-492e-b561-b42c54027546",
        "colab": {
          "base_uri": "https://localhost:8080/",
          "height": 34
        }
      },
      "source": [
        "patients.query('city==\"New York\"').shape[0]"
      ],
      "execution_count": 11,
      "outputs": [
        {
          "output_type": "execute_result",
          "data": {
            "text/plain": [
              "18"
            ]
          },
          "metadata": {
            "tags": []
          },
          "execution_count": 11
        }
      ]
    },
    {
      "cell_type": "code",
      "metadata": {
        "id": "yZA6tauGkyZ5",
        "colab_type": "code",
        "outputId": "0e4b56ba-ab73-4e8f-f46b-94d7d489de8d",
        "colab": {
          "base_uri": "https://localhost:8080/",
          "height": 34
        }
      },
      "source": [
        "patients.query('surname==\"Doe\"').shape[0]"
      ],
      "execution_count": 12,
      "outputs": [
        {
          "output_type": "execute_result",
          "data": {
            "text/plain": [
              "6"
            ]
          },
          "metadata": {
            "tags": []
          },
          "execution_count": 12
        }
      ]
    },
    {
      "cell_type": "markdown",
      "metadata": {
        "id": "2EdDUyMtBrGz",
        "colab_type": "text"
      },
      "source": [
        "350 patients participated in this clinical trial. None of the patients were using Novodra (a popular injectable insulin) or Auralin (the oral insulin being researched) as their primary source of insulin before.  All were experiencing elevated HbA1c levels.\n",
        "\n",
        "All 350 patients were treated with Novodra to establish a baseline HbA1c level and insulin dose. After four weeks, which isn’t enough time to capture all the change in HbA1c that can be attributed by the switch to Auralin or Novodra:\n",
        "- 175 patients switched to Auralin for 24 weeks\n",
        "- 175 patients continued using Novodra for 24 weeks\n",
        "\n",
        "`treatments` columns:\n",
        "- **given_name**: the given name of each patient in the Master Patient Index that took part in the clinical trial\n",
        "- **surname**: the surname of each patient in the Master Patient Index that took part in the clinical trial\n",
        "- **auralin**: the baseline median daily dose of insulin from the week prior to switching to Auralin (the number before the dash) *and* the ending median daily dose of insulin at the end of the 24 weeks of treatment measured over the 24th week of treatment (the number after the dash). Both are measured in units (shortform 'u'), which is the [international unit](https://en.wikipedia.org/wiki/International_unit) of measurement and the standard measurement for insulin.\n",
        "- **novodra**: same as above, except for patients that continued treatment with Novodra\n",
        "- **hba1c_start**: the patient's HbA1c level at the beginning of the first week of treatment. HbA1c stands for Hemoglobin A1c. The [HbA1c test](https://depts.washington.edu/uwcoe/healthtopics/diabetes.html) measures what the average blood sugar has been over the past three months. It is thus a powerful way to get an overall sense of how well diabetes has been controlled. Everyone with diabetes should have this test 2 to 4 times per year. Measured in %.\n",
        "- **hba1c_end**: the patient's HbA1c level at the end of the last week of treatment\n",
        "- **hba1c_change**: the change in the patient's HbA1c level from the start of treatment to the end, i.e., `hba1c_start` - `hba1c_end`. For Auralin to be deemed effective, it must be \"noninferior\" to Novodra, the current standard for insulin. This \"noninferiority\" is statistically defined as the upper bound of the 95% confidence interval being less than 0.4% for the difference between the mean HbA1c changes for Novodra and Auralin (i.e. Novodra minus Auralin)."
      ]
    },
    {
      "cell_type": "code",
      "metadata": {
        "scrolled": true,
        "id": "FHRuj2mCBrG5",
        "colab_type": "code",
        "outputId": "6350405a-1f35-494c-88f9-a0de99c49638",
        "colab": {
          "base_uri": "https://localhost:8080/",
          "height": 1000
        }
      },
      "source": [
        "# Display the adverse_reactions table\n",
        "adverse_reactions"
      ],
      "execution_count": 13,
      "outputs": [
        {
          "output_type": "execute_result",
          "data": {
            "text/html": [
              "<div>\n",
              "<style scoped>\n",
              "    .dataframe tbody tr th:only-of-type {\n",
              "        vertical-align: middle;\n",
              "    }\n",
              "\n",
              "    .dataframe tbody tr th {\n",
              "        vertical-align: top;\n",
              "    }\n",
              "\n",
              "    .dataframe thead th {\n",
              "        text-align: right;\n",
              "    }\n",
              "</style>\n",
              "<table border=\"1\" class=\"dataframe\">\n",
              "  <thead>\n",
              "    <tr style=\"text-align: right;\">\n",
              "      <th></th>\n",
              "      <th>given_name</th>\n",
              "      <th>surname</th>\n",
              "      <th>adverse_reaction</th>\n",
              "    </tr>\n",
              "  </thead>\n",
              "  <tbody>\n",
              "    <tr>\n",
              "      <th>0</th>\n",
              "      <td>berta</td>\n",
              "      <td>napolitani</td>\n",
              "      <td>injection site discomfort</td>\n",
              "    </tr>\n",
              "    <tr>\n",
              "      <th>1</th>\n",
              "      <td>lena</td>\n",
              "      <td>baer</td>\n",
              "      <td>hypoglycemia</td>\n",
              "    </tr>\n",
              "    <tr>\n",
              "      <th>2</th>\n",
              "      <td>joseph</td>\n",
              "      <td>day</td>\n",
              "      <td>hypoglycemia</td>\n",
              "    </tr>\n",
              "    <tr>\n",
              "      <th>3</th>\n",
              "      <td>flavia</td>\n",
              "      <td>fiorentino</td>\n",
              "      <td>cough</td>\n",
              "    </tr>\n",
              "    <tr>\n",
              "      <th>4</th>\n",
              "      <td>manouck</td>\n",
              "      <td>wubbels</td>\n",
              "      <td>throat irritation</td>\n",
              "    </tr>\n",
              "    <tr>\n",
              "      <th>5</th>\n",
              "      <td>jasmine</td>\n",
              "      <td>sykes</td>\n",
              "      <td>hypoglycemia</td>\n",
              "    </tr>\n",
              "    <tr>\n",
              "      <th>6</th>\n",
              "      <td>louise</td>\n",
              "      <td>johnson</td>\n",
              "      <td>hypoglycemia</td>\n",
              "    </tr>\n",
              "    <tr>\n",
              "      <th>7</th>\n",
              "      <td>albinca</td>\n",
              "      <td>komavec</td>\n",
              "      <td>hypoglycemia</td>\n",
              "    </tr>\n",
              "    <tr>\n",
              "      <th>8</th>\n",
              "      <td>noe</td>\n",
              "      <td>aranda</td>\n",
              "      <td>hypoglycemia</td>\n",
              "    </tr>\n",
              "    <tr>\n",
              "      <th>9</th>\n",
              "      <td>sofia</td>\n",
              "      <td>hermansen</td>\n",
              "      <td>injection site discomfort</td>\n",
              "    </tr>\n",
              "    <tr>\n",
              "      <th>10</th>\n",
              "      <td>tegan</td>\n",
              "      <td>johnson</td>\n",
              "      <td>headache</td>\n",
              "    </tr>\n",
              "    <tr>\n",
              "      <th>11</th>\n",
              "      <td>abel</td>\n",
              "      <td>yonatan</td>\n",
              "      <td>cough</td>\n",
              "    </tr>\n",
              "    <tr>\n",
              "      <th>12</th>\n",
              "      <td>abdul-nur</td>\n",
              "      <td>isa</td>\n",
              "      <td>hypoglycemia</td>\n",
              "    </tr>\n",
              "    <tr>\n",
              "      <th>13</th>\n",
              "      <td>leon</td>\n",
              "      <td>scholz</td>\n",
              "      <td>injection site discomfort</td>\n",
              "    </tr>\n",
              "    <tr>\n",
              "      <th>14</th>\n",
              "      <td>gabriele</td>\n",
              "      <td>saenger</td>\n",
              "      <td>hypoglycemia</td>\n",
              "    </tr>\n",
              "    <tr>\n",
              "      <th>15</th>\n",
              "      <td>jia li</td>\n",
              "      <td>teng</td>\n",
              "      <td>nausea</td>\n",
              "    </tr>\n",
              "    <tr>\n",
              "      <th>16</th>\n",
              "      <td>jakob</td>\n",
              "      <td>jakobsen</td>\n",
              "      <td>hypoglycemia</td>\n",
              "    </tr>\n",
              "    <tr>\n",
              "      <th>17</th>\n",
              "      <td>christopher</td>\n",
              "      <td>woodward</td>\n",
              "      <td>nausea</td>\n",
              "    </tr>\n",
              "    <tr>\n",
              "      <th>18</th>\n",
              "      <td>ole</td>\n",
              "      <td>petersen</td>\n",
              "      <td>hypoglycemia</td>\n",
              "    </tr>\n",
              "    <tr>\n",
              "      <th>19</th>\n",
              "      <td>finley</td>\n",
              "      <td>chandler</td>\n",
              "      <td>headache</td>\n",
              "    </tr>\n",
              "    <tr>\n",
              "      <th>20</th>\n",
              "      <td>anenechi</td>\n",
              "      <td>chidi</td>\n",
              "      <td>hypoglycemia</td>\n",
              "    </tr>\n",
              "    <tr>\n",
              "      <th>21</th>\n",
              "      <td>miłosław</td>\n",
              "      <td>wiśniewski</td>\n",
              "      <td>injection site discomfort</td>\n",
              "    </tr>\n",
              "    <tr>\n",
              "      <th>22</th>\n",
              "      <td>lixue</td>\n",
              "      <td>hsueh</td>\n",
              "      <td>injection site discomfort</td>\n",
              "    </tr>\n",
              "    <tr>\n",
              "      <th>23</th>\n",
              "      <td>merci</td>\n",
              "      <td>leroux</td>\n",
              "      <td>hypoglycemia</td>\n",
              "    </tr>\n",
              "    <tr>\n",
              "      <th>24</th>\n",
              "      <td>kang</td>\n",
              "      <td>mai</td>\n",
              "      <td>injection site discomfort</td>\n",
              "    </tr>\n",
              "    <tr>\n",
              "      <th>25</th>\n",
              "      <td>elliot</td>\n",
              "      <td>richardson</td>\n",
              "      <td>hypoglycemia</td>\n",
              "    </tr>\n",
              "    <tr>\n",
              "      <th>26</th>\n",
              "      <td>clinton</td>\n",
              "      <td>miller</td>\n",
              "      <td>throat irritation</td>\n",
              "    </tr>\n",
              "    <tr>\n",
              "      <th>27</th>\n",
              "      <td>idalia</td>\n",
              "      <td>moore</td>\n",
              "      <td>hypoglycemia</td>\n",
              "    </tr>\n",
              "    <tr>\n",
              "      <th>28</th>\n",
              "      <td>xiuxiu</td>\n",
              "      <td>chang</td>\n",
              "      <td>hypoglycemia</td>\n",
              "    </tr>\n",
              "    <tr>\n",
              "      <th>29</th>\n",
              "      <td>alex</td>\n",
              "      <td>crawford</td>\n",
              "      <td>hypoglycemia</td>\n",
              "    </tr>\n",
              "    <tr>\n",
              "      <th>30</th>\n",
              "      <td>monika</td>\n",
              "      <td>lončar</td>\n",
              "      <td>hypoglycemia</td>\n",
              "    </tr>\n",
              "    <tr>\n",
              "      <th>31</th>\n",
              "      <td>steven</td>\n",
              "      <td>roy</td>\n",
              "      <td>headache</td>\n",
              "    </tr>\n",
              "    <tr>\n",
              "      <th>32</th>\n",
              "      <td>cecilie</td>\n",
              "      <td>nilsen</td>\n",
              "      <td>hypoglycemia</td>\n",
              "    </tr>\n",
              "    <tr>\n",
              "      <th>33</th>\n",
              "      <td>krisztina</td>\n",
              "      <td>magyar</td>\n",
              "      <td>hypoglycemia</td>\n",
              "    </tr>\n",
              "  </tbody>\n",
              "</table>\n",
              "</div>"
            ],
            "text/plain": [
              "     given_name     surname           adverse_reaction\n",
              "0         berta  napolitani  injection site discomfort\n",
              "1          lena        baer               hypoglycemia\n",
              "2        joseph         day               hypoglycemia\n",
              "3        flavia  fiorentino                      cough\n",
              "4       manouck     wubbels          throat irritation\n",
              "5       jasmine       sykes               hypoglycemia\n",
              "6        louise     johnson               hypoglycemia\n",
              "7       albinca     komavec               hypoglycemia\n",
              "8           noe      aranda               hypoglycemia\n",
              "9         sofia   hermansen  injection site discomfort\n",
              "10        tegan     johnson                   headache\n",
              "11         abel     yonatan                      cough\n",
              "12    abdul-nur         isa               hypoglycemia\n",
              "13         leon      scholz  injection site discomfort\n",
              "14     gabriele     saenger               hypoglycemia\n",
              "15       jia li        teng                     nausea\n",
              "16        jakob    jakobsen               hypoglycemia\n",
              "17  christopher    woodward                     nausea\n",
              "18          ole    petersen               hypoglycemia\n",
              "19       finley    chandler                   headache\n",
              "20     anenechi       chidi               hypoglycemia\n",
              "21     miłosław  wiśniewski  injection site discomfort\n",
              "22        lixue       hsueh  injection site discomfort\n",
              "23        merci      leroux               hypoglycemia\n",
              "24         kang         mai  injection site discomfort\n",
              "25       elliot  richardson               hypoglycemia\n",
              "26      clinton      miller          throat irritation\n",
              "27       idalia       moore               hypoglycemia\n",
              "28       xiuxiu       chang               hypoglycemia\n",
              "29         alex    crawford               hypoglycemia\n",
              "30       monika      lončar               hypoglycemia\n",
              "31       steven         roy                   headache\n",
              "32      cecilie      nilsen               hypoglycemia\n",
              "33    krisztina      magyar               hypoglycemia"
            ]
          },
          "metadata": {
            "tags": []
          },
          "execution_count": 13
        }
      ]
    },
    {
      "cell_type": "markdown",
      "metadata": {
        "id": "U-aPeEroBrHO",
        "colab_type": "text"
      },
      "source": [
        "`adverse_reactions` columns:\n",
        "- **given_name**: the given name of each patient in the Master Patient Index that took part in the clinical trial and had an adverse reaction (includes both patients treated Auralin and Novodra)\n",
        "- **surname**: the surname of each patient in the Master Patient Index that took part in the clinical trial and had an adverse reaction (includes both patients treated Auralin and Novodra)\n",
        "- **adverse_reaction**: the adverse reaction reported by the patient\n",
        "\n",
        "Additional useful information:\n",
        "- [Insulin resistance varies person to person](http://www.tudiabetes.org/forum/t/how-much-insulin-is-too-much-on-a-daily-basis/9804/5), which is why both starting median daily dose and ending median daily dose are required, i.e., to calculate change in dose.\n",
        "- It is important to test drugs and medical products in the people they are meant to help. People of different age, race, sex, and ethnic group must be included in clinical trials. This [diversity](https://www.clinicalleader.com/doc/an-fda-perspective-on-patient-diversity-in-clinical-trials-0001) is reflected in the `patients` table.\n",
        "- Ensuring column names are descriptive enough is an important step in acquainting yourself with the data. 'Descriptive enough' is subjective. Ideally you want short column names (so they are easier to type and read in code form) but also fully descriptive. Length vs. descriptiveness is a tradeoff and common debate (a [similar debate](https://softwareengineering.stackexchange.com/questions/176582/is-there-an-excuse-for-short-variable-names) exists for variable names). The *auralin* and *novodra* column names are probably not descriptive enough, but you'll address that later so don't worry about that for now."
      ]
    },
    {
      "cell_type": "code",
      "metadata": {
        "id": "70zfpvVceJDu",
        "colab_type": "code",
        "colab": {
          "base_uri": "https://localhost:8080/",
          "height": 136
        },
        "outputId": "287ccefa-510a-40c0-b81f-36d327d82ade"
      },
      "source": [
        "adverse_reactions['adverse_reaction'].value_counts()"
      ],
      "execution_count": 14,
      "outputs": [
        {
          "output_type": "execute_result",
          "data": {
            "text/plain": [
              "hypoglycemia                 19\n",
              "injection site discomfort     6\n",
              "headache                      3\n",
              "throat irritation             2\n",
              "nausea                        2\n",
              "cough                         2\n",
              "Name: adverse_reaction, dtype: int64"
            ]
          },
          "metadata": {
            "tags": []
          },
          "execution_count": 14
        }
      ]
    },
    {
      "cell_type": "markdown",
      "metadata": {
        "id": "6U92XGnpA07C",
        "colab_type": "text"
      },
      "source": [
        "## Cleaning Data"
      ]
    },
    {
      "cell_type": "code",
      "metadata": {
        "id": "4e_R1HcWeS9P",
        "colab_type": "code",
        "colab": {}
      },
      "source": [
        "# Making copies of our dataframes \n",
        "patients_clean=patients.copy()\n",
        "treatments_clean = treatments.copy()\n",
        "adverse_reactions_clean = adverse_reactions.copy()"
      ],
      "execution_count": 0,
      "outputs": []
    },
    {
      "cell_type": "markdown",
      "metadata": {
        "id": "ZIfL2b46B8Gw",
        "colab_type": "text"
      },
      "source": [
        "## treatments: Missing records (280 instead of 350)\n",
        "### Define\n",
        "merge the two tables the one of treatments and the other one treatments_cut that holds the rest of records"
      ]
    },
    {
      "cell_type": "code",
      "metadata": {
        "id": "TUKCA5-cBqZd",
        "colab_type": "code",
        "colab": {}
      },
      "source": [
        "df_cut=pd.read_csv('assessing-cleaning-data/treatments_cut.csv')"
      ],
      "execution_count": 0,
      "outputs": []
    },
    {
      "cell_type": "code",
      "metadata": {
        "id": "ztxd_HefESDh",
        "colab_type": "code",
        "outputId": "1b0bcd0d-b9e3-4182-8e32-1fd7a76ef0c5",
        "colab": {
          "base_uri": "https://localhost:8080/",
          "height": 289
        }
      },
      "source": [
        "df_cut.head()"
      ],
      "execution_count": 17,
      "outputs": [
        {
          "output_type": "execute_result",
          "data": {
            "text/html": [
              "<div>\n",
              "<style scoped>\n",
              "    .dataframe tbody tr th:only-of-type {\n",
              "        vertical-align: middle;\n",
              "    }\n",
              "\n",
              "    .dataframe tbody tr th {\n",
              "        vertical-align: top;\n",
              "    }\n",
              "\n",
              "    .dataframe thead th {\n",
              "        text-align: right;\n",
              "    }\n",
              "</style>\n",
              "<table border=\"1\" class=\"dataframe\">\n",
              "  <thead>\n",
              "    <tr style=\"text-align: right;\">\n",
              "      <th></th>\n",
              "      <th>given_name</th>\n",
              "      <th>surname</th>\n",
              "      <th>auralin</th>\n",
              "      <th>novodra</th>\n",
              "      <th>hba1c_start</th>\n",
              "      <th>hba1c_end</th>\n",
              "      <th>hba1c_change</th>\n",
              "    </tr>\n",
              "  </thead>\n",
              "  <tbody>\n",
              "    <tr>\n",
              "      <th>0</th>\n",
              "      <td>jožka</td>\n",
              "      <td>resanovič</td>\n",
              "      <td>22u - 30u</td>\n",
              "      <td>-</td>\n",
              "      <td>7.56</td>\n",
              "      <td>7.22</td>\n",
              "      <td>0.34</td>\n",
              "    </tr>\n",
              "    <tr>\n",
              "      <th>1</th>\n",
              "      <td>inunnguaq</td>\n",
              "      <td>heilmann</td>\n",
              "      <td>57u - 67u</td>\n",
              "      <td>-</td>\n",
              "      <td>7.85</td>\n",
              "      <td>7.45</td>\n",
              "      <td>NaN</td>\n",
              "    </tr>\n",
              "    <tr>\n",
              "      <th>2</th>\n",
              "      <td>alwin</td>\n",
              "      <td>svensson</td>\n",
              "      <td>36u - 39u</td>\n",
              "      <td>-</td>\n",
              "      <td>7.78</td>\n",
              "      <td>7.34</td>\n",
              "      <td>NaN</td>\n",
              "    </tr>\n",
              "    <tr>\n",
              "      <th>3</th>\n",
              "      <td>thể</td>\n",
              "      <td>lương</td>\n",
              "      <td>-</td>\n",
              "      <td>61u - 64u</td>\n",
              "      <td>7.64</td>\n",
              "      <td>7.22</td>\n",
              "      <td>0.92</td>\n",
              "    </tr>\n",
              "    <tr>\n",
              "      <th>4</th>\n",
              "      <td>amanda</td>\n",
              "      <td>ribeiro</td>\n",
              "      <td>36u - 44u</td>\n",
              "      <td>-</td>\n",
              "      <td>7.85</td>\n",
              "      <td>7.47</td>\n",
              "      <td>0.38</td>\n",
              "    </tr>\n",
              "  </tbody>\n",
              "</table>\n",
              "</div>"
            ],
            "text/plain": [
              "  given_name    surname    auralin  ... hba1c_start  hba1c_end  hba1c_change\n",
              "0      jožka  resanovič  22u - 30u  ...        7.56       7.22          0.34\n",
              "1  inunnguaq   heilmann  57u - 67u  ...        7.85       7.45           NaN\n",
              "2      alwin   svensson  36u - 39u  ...        7.78       7.34           NaN\n",
              "3        thể      lương          -  ...        7.64       7.22          0.92\n",
              "4     amanda    ribeiro  36u - 44u  ...        7.85       7.47          0.38\n",
              "\n",
              "[5 rows x 7 columns]"
            ]
          },
          "metadata": {
            "tags": []
          },
          "execution_count": 17
        }
      ]
    },
    {
      "cell_type": "code",
      "metadata": {
        "id": "nGB318kPEXG7",
        "colab_type": "code",
        "outputId": "aeb7a915-e089-4138-faad-7303e76718fb",
        "colab": {
          "base_uri": "https://localhost:8080/",
          "height": 34
        }
      },
      "source": [
        "df_cut.shape[0]"
      ],
      "execution_count": 18,
      "outputs": [
        {
          "output_type": "execute_result",
          "data": {
            "text/plain": [
              "70"
            ]
          },
          "metadata": {
            "tags": []
          },
          "execution_count": 18
        }
      ]
    },
    {
      "cell_type": "code",
      "metadata": {
        "id": "JTpWTgcMEbpJ",
        "colab_type": "code",
        "outputId": "8ecea8af-ae9a-4b2a-c233-561e57d0bdaa",
        "colab": {
          "base_uri": "https://localhost:8080/",
          "height": 34
        }
      },
      "source": [
        "treatments_clean.shape[0]"
      ],
      "execution_count": 19,
      "outputs": [
        {
          "output_type": "execute_result",
          "data": {
            "text/plain": [
              "280"
            ]
          },
          "metadata": {
            "tags": []
          },
          "execution_count": 19
        }
      ]
    },
    {
      "cell_type": "code",
      "metadata": {
        "id": "Q6tQw1MjEnlj",
        "colab_type": "code",
        "colab": {}
      },
      "source": [
        "treatments_clean=pd.concat([treatments_clean,df_cut],axis=0,ignore_index=True)"
      ],
      "execution_count": 0,
      "outputs": []
    },
    {
      "cell_type": "code",
      "metadata": {
        "id": "WTpHTbRcFJyE",
        "colab_type": "code",
        "outputId": "e6da34c2-0852-47ce-cb3f-bbbcc445fe95",
        "colab": {
          "base_uri": "https://localhost:8080/",
          "height": 680
        }
      },
      "source": [
        "treatments_clean.index.duplicated()"
      ],
      "execution_count": 21,
      "outputs": [
        {
          "output_type": "execute_result",
          "data": {
            "text/plain": [
              "array([False, False, False, False, False, False, False, False, False,\n",
              "       False, False, False, False, False, False, False, False, False,\n",
              "       False, False, False, False, False, False, False, False, False,\n",
              "       False, False, False, False, False, False, False, False, False,\n",
              "       False, False, False, False, False, False, False, False, False,\n",
              "       False, False, False, False, False, False, False, False, False,\n",
              "       False, False, False, False, False, False, False, False, False,\n",
              "       False, False, False, False, False, False, False, False, False,\n",
              "       False, False, False, False, False, False, False, False, False,\n",
              "       False, False, False, False, False, False, False, False, False,\n",
              "       False, False, False, False, False, False, False, False, False,\n",
              "       False, False, False, False, False, False, False, False, False,\n",
              "       False, False, False, False, False, False, False, False, False,\n",
              "       False, False, False, False, False, False, False, False, False,\n",
              "       False, False, False, False, False, False, False, False, False,\n",
              "       False, False, False, False, False, False, False, False, False,\n",
              "       False, False, False, False, False, False, False, False, False,\n",
              "       False, False, False, False, False, False, False, False, False,\n",
              "       False, False, False, False, False, False, False, False, False,\n",
              "       False, False, False, False, False, False, False, False, False,\n",
              "       False, False, False, False, False, False, False, False, False,\n",
              "       False, False, False, False, False, False, False, False, False,\n",
              "       False, False, False, False, False, False, False, False, False,\n",
              "       False, False, False, False, False, False, False, False, False,\n",
              "       False, False, False, False, False, False, False, False, False,\n",
              "       False, False, False, False, False, False, False, False, False,\n",
              "       False, False, False, False, False, False, False, False, False,\n",
              "       False, False, False, False, False, False, False, False, False,\n",
              "       False, False, False, False, False, False, False, False, False,\n",
              "       False, False, False, False, False, False, False, False, False,\n",
              "       False, False, False, False, False, False, False, False, False,\n",
              "       False, False, False, False, False, False, False, False, False,\n",
              "       False, False, False, False, False, False, False, False, False,\n",
              "       False, False, False, False, False, False, False, False, False,\n",
              "       False, False, False, False, False, False, False, False, False,\n",
              "       False, False, False, False, False, False, False, False, False,\n",
              "       False, False, False, False, False, False, False, False, False,\n",
              "       False, False, False, False, False, False, False, False, False,\n",
              "       False, False, False, False, False, False, False, False])"
            ]
          },
          "metadata": {
            "tags": []
          },
          "execution_count": 21
        }
      ]
    },
    {
      "cell_type": "code",
      "metadata": {
        "id": "K8RzFSg5HB8G",
        "colab_type": "code",
        "outputId": "f4aea4e6-4921-4ff0-e00a-5991e659bba4",
        "colab": {
          "base_uri": "https://localhost:8080/",
          "height": 34
        }
      },
      "source": [
        "treatments_clean.shape[0]"
      ],
      "execution_count": 22,
      "outputs": [
        {
          "output_type": "execute_result",
          "data": {
            "text/plain": [
              "350"
            ]
          },
          "metadata": {
            "tags": []
          },
          "execution_count": 22
        }
      ]
    },
    {
      "cell_type": "markdown",
      "metadata": {
        "id": "BBBPccjBIHEd",
        "colab_type": "text"
      },
      "source": [
        "### treatments: Missing HbA1c changes and Inaccurate HbA1c changes (leading 4s mistaken as 9s)\n",
        "Note: the \"Inaccurate HbA1c changes (leading 4s mistaken as 9s)\" observation, which is an accuracy issue and not a completeness issue, is included in this header because it is also fixed by the cleaning operation that fixes the missing \"Missing HbA1c changes\" observation. Multiple observations in one Define, Code, and Test header occurs multiple times in this notebook."
      ]
    },
    {
      "cell_type": "code",
      "metadata": {
        "id": "5zCY9_O2H_M0",
        "colab_type": "code",
        "outputId": "88606d66-4d34-4ca6-f49a-fd36fb3c0848",
        "colab": {
          "base_uri": "https://localhost:8080/",
          "height": 0
        }
      },
      "source": [
        "treatments_clean.head()"
      ],
      "execution_count": 23,
      "outputs": [
        {
          "output_type": "execute_result",
          "data": {
            "text/html": [
              "<div>\n",
              "<style scoped>\n",
              "    .dataframe tbody tr th:only-of-type {\n",
              "        vertical-align: middle;\n",
              "    }\n",
              "\n",
              "    .dataframe tbody tr th {\n",
              "        vertical-align: top;\n",
              "    }\n",
              "\n",
              "    .dataframe thead th {\n",
              "        text-align: right;\n",
              "    }\n",
              "</style>\n",
              "<table border=\"1\" class=\"dataframe\">\n",
              "  <thead>\n",
              "    <tr style=\"text-align: right;\">\n",
              "      <th></th>\n",
              "      <th>given_name</th>\n",
              "      <th>surname</th>\n",
              "      <th>auralin</th>\n",
              "      <th>novodra</th>\n",
              "      <th>hba1c_start</th>\n",
              "      <th>hba1c_end</th>\n",
              "      <th>hba1c_change</th>\n",
              "    </tr>\n",
              "  </thead>\n",
              "  <tbody>\n",
              "    <tr>\n",
              "      <th>0</th>\n",
              "      <td>veronika</td>\n",
              "      <td>jindrová</td>\n",
              "      <td>41u - 48u</td>\n",
              "      <td>-</td>\n",
              "      <td>7.63</td>\n",
              "      <td>7.20</td>\n",
              "      <td>NaN</td>\n",
              "    </tr>\n",
              "    <tr>\n",
              "      <th>1</th>\n",
              "      <td>elliot</td>\n",
              "      <td>richardson</td>\n",
              "      <td>-</td>\n",
              "      <td>40u - 45u</td>\n",
              "      <td>7.56</td>\n",
              "      <td>7.09</td>\n",
              "      <td>0.97</td>\n",
              "    </tr>\n",
              "    <tr>\n",
              "      <th>2</th>\n",
              "      <td>yukitaka</td>\n",
              "      <td>takenaka</td>\n",
              "      <td>-</td>\n",
              "      <td>39u - 36u</td>\n",
              "      <td>7.68</td>\n",
              "      <td>7.25</td>\n",
              "      <td>NaN</td>\n",
              "    </tr>\n",
              "    <tr>\n",
              "      <th>3</th>\n",
              "      <td>skye</td>\n",
              "      <td>gormanston</td>\n",
              "      <td>33u - 36u</td>\n",
              "      <td>-</td>\n",
              "      <td>7.97</td>\n",
              "      <td>7.62</td>\n",
              "      <td>0.35</td>\n",
              "    </tr>\n",
              "    <tr>\n",
              "      <th>4</th>\n",
              "      <td>alissa</td>\n",
              "      <td>montez</td>\n",
              "      <td>-</td>\n",
              "      <td>33u - 29u</td>\n",
              "      <td>7.78</td>\n",
              "      <td>7.46</td>\n",
              "      <td>0.32</td>\n",
              "    </tr>\n",
              "  </tbody>\n",
              "</table>\n",
              "</div>"
            ],
            "text/plain": [
              "  given_name     surname    auralin  ... hba1c_start  hba1c_end  hba1c_change\n",
              "0   veronika    jindrová  41u - 48u  ...        7.63       7.20           NaN\n",
              "1     elliot  richardson          -  ...        7.56       7.09          0.97\n",
              "2   yukitaka    takenaka          -  ...        7.68       7.25           NaN\n",
              "3       skye  gormanston  33u - 36u  ...        7.97       7.62          0.35\n",
              "4     alissa      montez          -  ...        7.78       7.46          0.32\n",
              "\n",
              "[5 rows x 7 columns]"
            ]
          },
          "metadata": {
            "tags": []
          },
          "execution_count": 23
        }
      ]
    },
    {
      "cell_type": "code",
      "metadata": {
        "id": "zD6rLPMIIYl6",
        "colab_type": "code",
        "colab": {}
      },
      "source": [
        "treatments_clean['hba1c_change']=treatments_clean['hba1c_start']-treatments_clean['hba1c_end']"
      ],
      "execution_count": 0,
      "outputs": []
    },
    {
      "cell_type": "code",
      "metadata": {
        "id": "bj4vhUDFItxh",
        "colab_type": "code",
        "outputId": "a408ca20-1dd6-4f35-bb9b-ab15b2a0d2dd",
        "colab": {
          "base_uri": "https://localhost:8080/",
          "height": 0
        }
      },
      "source": [
        "treatments_clean['hba1c_change'].isnull().sum()"
      ],
      "execution_count": 25,
      "outputs": [
        {
          "output_type": "execute_result",
          "data": {
            "text/plain": [
              "0"
            ]
          },
          "metadata": {
            "tags": []
          },
          "execution_count": 25
        }
      ]
    },
    {
      "cell_type": "markdown",
      "metadata": {
        "id": "opJY_BY1MxJg",
        "colab_type": "text"
      },
      "source": [
        "## Contact column in patients table contains two variables: phone number and email\n",
        "Extract the phone number and email variables from the contact column using regular expressions and pandas' str.extract method. Drop the contact column when done."
      ]
    },
    {
      "cell_type": "code",
      "metadata": {
        "id": "1cqokYlPK3ox",
        "colab_type": "code",
        "colab": {}
      },
      "source": [
        "patients_clean['phone_number'] = patients_clean.contact.str.extract('((?:\\+\\d{1,2}\\s)?\\(?\\d{3}\\)?[\\s.-]?\\d{3}[\\s.-]?\\d{4})', expand=True)\n",
        "\n",
        "# [a-zA-Z] to signify emails in this dataset all start and end with letters\n",
        "patients_clean['email'] = patients_clean.contact.str.extract('([a-zA-Z][a-zA-Z0-9_.+-]+@[a-zA-Z0-9-]+\\.[a-zA-Z0-9-.]+[a-zA-Z])', expand=True)\n",
        "\n",
        "# Note: axis=1 denotes that we are referring to a column, not a row\n",
        "patients_clean = patients_clean.drop('contact', axis=1)"
      ],
      "execution_count": 0,
      "outputs": []
    },
    {
      "cell_type": "code",
      "metadata": {
        "id": "HwAs_2CdSOGy",
        "colab_type": "code",
        "outputId": "7a740e0f-c408-4070-93c3-eaa3773280e5",
        "colab": {
          "base_uri": "https://localhost:8080/",
          "height": 272
        }
      },
      "source": [
        "list(patients_clean)"
      ],
      "execution_count": 27,
      "outputs": [
        {
          "output_type": "execute_result",
          "data": {
            "text/plain": [
              "['patient_id',\n",
              " 'assigned_sex',\n",
              " 'given_name',\n",
              " 'surname',\n",
              " 'address',\n",
              " 'city',\n",
              " 'state',\n",
              " 'zip_code',\n",
              " 'country',\n",
              " 'birthdate',\n",
              " 'weight',\n",
              " 'height',\n",
              " 'bmi',\n",
              " 'phone_number',\n",
              " 'email']"
            ]
          },
          "metadata": {
            "tags": []
          },
          "execution_count": 27
        }
      ]
    },
    {
      "cell_type": "code",
      "metadata": {
        "id": "CuSjQS7FSUiW",
        "colab_type": "code",
        "outputId": "338e98fb-a739-40f5-9a97-4c7dbb7d69b3",
        "colab": {
          "base_uri": "https://localhost:8080/",
          "height": 459
        }
      },
      "source": [
        "patients_clean.phone_number.sample(25)"
      ],
      "execution_count": 28,
      "outputs": [
        {
          "output_type": "execute_result",
          "data": {
            "text/plain": [
              "304         502-902-6188\n",
              "313         251-359-2088\n",
              "287         619 818 3436\n",
              "369         619-652-0285\n",
              "475         650-962-7179\n",
              "274         740-552-2444\n",
              "381    +1 (870) 457-5086\n",
              "419         317-956-6166\n",
              "156    +1 (612) 208-2965\n",
              "357         937-592-9410\n",
              "322         254-546-2728\n",
              "108         620 940 1131\n",
              "460    +1 (510) 238-1151\n",
              "446         601-418-0102\n",
              "203         636-442-6946\n",
              "70          740 629 5172\n",
              "384    +1 (605) 440-5492\n",
              "74          918-975-7594\n",
              "339         952 431 5166\n",
              "77          859-297-3368\n",
              "407         405-470-5088\n",
              "166         903-749-8046\n",
              "310         913 322 9114\n",
              "222         502-367-6167\n",
              "355         401-456-2797\n",
              "Name: phone_number, dtype: object"
            ]
          },
          "metadata": {
            "tags": []
          },
          "execution_count": 28
        }
      ]
    },
    {
      "cell_type": "code",
      "metadata": {
        "id": "mldGzgfPScsT",
        "colab_type": "code",
        "outputId": "5b851971-2569-4af4-fc7a-f5a734dc6312",
        "colab": {
          "base_uri": "https://localhost:8080/",
          "height": 119
        }
      },
      "source": [
        "patients_clean.email.sort_values().head()"
      ],
      "execution_count": 29,
      "outputs": [
        {
          "output_type": "execute_result",
          "data": {
            "text/plain": [
              "404               AaliyahRice@dayrep.com\n",
              "11          Abdul-NurMummarIsa@rhyta.com\n",
              "332                AbelEfrem@fleckens.hu\n",
              "258              AbelYonatan@teleworm.us\n",
              "305    AddolorataLombardi@jourrapide.com\n",
              "Name: email, dtype: object"
            ]
          },
          "metadata": {
            "tags": []
          },
          "execution_count": 29
        }
      ]
    },
    {
      "cell_type": "markdown",
      "metadata": {
        "id": "a2u8Fh4gVv97",
        "colab_type": "text"
      },
      "source": [
        "## Define\n",
        "Melt the auralin and novodra columns to a treatment and a dose column (dose will still contain both start and end dose at this point). Then split the dose column on ' - ' to obtain start_dose and end_dose columns. Drop the intermediate dose column."
      ]
    },
    {
      "cell_type": "code",
      "metadata": {
        "id": "5WLEvCftSsW3",
        "colab_type": "code",
        "outputId": "0e8608af-c9ab-40aa-dfca-524af4ee6c03",
        "colab": {
          "base_uri": "https://localhost:8080/",
          "height": 507
        }
      },
      "source": [
        "treatments_clean = pd.melt(treatments_clean, id_vars=['given_name', 'surname', 'hba1c_start', 'hba1c_end', 'hba1c_change'],\n",
        "                           var_name='treatment', value_name='dose')\n",
        "treatments_clean\n"
      ],
      "execution_count": 30,
      "outputs": [
        {
          "output_type": "execute_result",
          "data": {
            "text/html": [
              "<div>\n",
              "<style scoped>\n",
              "    .dataframe tbody tr th:only-of-type {\n",
              "        vertical-align: middle;\n",
              "    }\n",
              "\n",
              "    .dataframe tbody tr th {\n",
              "        vertical-align: top;\n",
              "    }\n",
              "\n",
              "    .dataframe thead th {\n",
              "        text-align: right;\n",
              "    }\n",
              "</style>\n",
              "<table border=\"1\" class=\"dataframe\">\n",
              "  <thead>\n",
              "    <tr style=\"text-align: right;\">\n",
              "      <th></th>\n",
              "      <th>given_name</th>\n",
              "      <th>surname</th>\n",
              "      <th>hba1c_start</th>\n",
              "      <th>hba1c_end</th>\n",
              "      <th>hba1c_change</th>\n",
              "      <th>treatment</th>\n",
              "      <th>dose</th>\n",
              "    </tr>\n",
              "  </thead>\n",
              "  <tbody>\n",
              "    <tr>\n",
              "      <th>0</th>\n",
              "      <td>veronika</td>\n",
              "      <td>jindrová</td>\n",
              "      <td>7.63</td>\n",
              "      <td>7.20</td>\n",
              "      <td>0.43</td>\n",
              "      <td>auralin</td>\n",
              "      <td>41u - 48u</td>\n",
              "    </tr>\n",
              "    <tr>\n",
              "      <th>1</th>\n",
              "      <td>elliot</td>\n",
              "      <td>richardson</td>\n",
              "      <td>7.56</td>\n",
              "      <td>7.09</td>\n",
              "      <td>0.47</td>\n",
              "      <td>auralin</td>\n",
              "      <td>-</td>\n",
              "    </tr>\n",
              "    <tr>\n",
              "      <th>2</th>\n",
              "      <td>yukitaka</td>\n",
              "      <td>takenaka</td>\n",
              "      <td>7.68</td>\n",
              "      <td>7.25</td>\n",
              "      <td>0.43</td>\n",
              "      <td>auralin</td>\n",
              "      <td>-</td>\n",
              "    </tr>\n",
              "    <tr>\n",
              "      <th>3</th>\n",
              "      <td>skye</td>\n",
              "      <td>gormanston</td>\n",
              "      <td>7.97</td>\n",
              "      <td>7.62</td>\n",
              "      <td>0.35</td>\n",
              "      <td>auralin</td>\n",
              "      <td>33u - 36u</td>\n",
              "    </tr>\n",
              "    <tr>\n",
              "      <th>4</th>\n",
              "      <td>alissa</td>\n",
              "      <td>montez</td>\n",
              "      <td>7.78</td>\n",
              "      <td>7.46</td>\n",
              "      <td>0.32</td>\n",
              "      <td>auralin</td>\n",
              "      <td>-</td>\n",
              "    </tr>\n",
              "    <tr>\n",
              "      <th>...</th>\n",
              "      <td>...</td>\n",
              "      <td>...</td>\n",
              "      <td>...</td>\n",
              "      <td>...</td>\n",
              "      <td>...</td>\n",
              "      <td>...</td>\n",
              "      <td>...</td>\n",
              "    </tr>\n",
              "    <tr>\n",
              "      <th>695</th>\n",
              "      <td>rovzan</td>\n",
              "      <td>kishiev</td>\n",
              "      <td>7.75</td>\n",
              "      <td>7.41</td>\n",
              "      <td>0.34</td>\n",
              "      <td>novodra</td>\n",
              "      <td>-</td>\n",
              "    </tr>\n",
              "    <tr>\n",
              "      <th>696</th>\n",
              "      <td>jakob</td>\n",
              "      <td>jakobsen</td>\n",
              "      <td>7.96</td>\n",
              "      <td>7.51</td>\n",
              "      <td>0.45</td>\n",
              "      <td>novodra</td>\n",
              "      <td>28u - 26u</td>\n",
              "    </tr>\n",
              "    <tr>\n",
              "      <th>697</th>\n",
              "      <td>bernd</td>\n",
              "      <td>schneider</td>\n",
              "      <td>7.74</td>\n",
              "      <td>7.44</td>\n",
              "      <td>0.30</td>\n",
              "      <td>novodra</td>\n",
              "      <td>-</td>\n",
              "    </tr>\n",
              "    <tr>\n",
              "      <th>698</th>\n",
              "      <td>berta</td>\n",
              "      <td>napolitani</td>\n",
              "      <td>7.68</td>\n",
              "      <td>7.21</td>\n",
              "      <td>0.47</td>\n",
              "      <td>novodra</td>\n",
              "      <td>42u - 44u</td>\n",
              "    </tr>\n",
              "    <tr>\n",
              "      <th>699</th>\n",
              "      <td>armina</td>\n",
              "      <td>sauvé</td>\n",
              "      <td>7.86</td>\n",
              "      <td>7.40</td>\n",
              "      <td>0.46</td>\n",
              "      <td>novodra</td>\n",
              "      <td>-</td>\n",
              "    </tr>\n",
              "  </tbody>\n",
              "</table>\n",
              "<p>700 rows × 7 columns</p>\n",
              "</div>"
            ],
            "text/plain": [
              "    given_name     surname  hba1c_start  ...  hba1c_change  treatment       dose\n",
              "0     veronika    jindrová         7.63  ...          0.43    auralin  41u - 48u\n",
              "1       elliot  richardson         7.56  ...          0.47    auralin          -\n",
              "2     yukitaka    takenaka         7.68  ...          0.43    auralin          -\n",
              "3         skye  gormanston         7.97  ...          0.35    auralin  33u - 36u\n",
              "4       alissa      montez         7.78  ...          0.32    auralin          -\n",
              "..         ...         ...          ...  ...           ...        ...        ...\n",
              "695     rovzan     kishiev         7.75  ...          0.34    novodra          -\n",
              "696      jakob    jakobsen         7.96  ...          0.45    novodra  28u - 26u\n",
              "697      bernd   schneider         7.74  ...          0.30    novodra          -\n",
              "698      berta  napolitani         7.68  ...          0.47    novodra  42u - 44u\n",
              "699     armina       sauvé         7.86  ...          0.46    novodra          -\n",
              "\n",
              "[700 rows x 7 columns]"
            ]
          },
          "metadata": {
            "tags": []
          },
          "execution_count": 30
        }
      ]
    },
    {
      "cell_type": "code",
      "metadata": {
        "id": "pLqdZ7jUZvT-",
        "colab_type": "code",
        "outputId": "3114c8c8-d9a3-4ec0-dde3-e35c7be0a311",
        "colab": {
          "base_uri": "https://localhost:8080/",
          "height": 309
        }
      },
      "source": [
        "treatments_clean = treatments_clean[treatments_clean.dose != \"-\"]\n",
        "treatments_clean.head()"
      ],
      "execution_count": 31,
      "outputs": [
        {
          "output_type": "execute_result",
          "data": {
            "text/html": [
              "<div>\n",
              "<style scoped>\n",
              "    .dataframe tbody tr th:only-of-type {\n",
              "        vertical-align: middle;\n",
              "    }\n",
              "\n",
              "    .dataframe tbody tr th {\n",
              "        vertical-align: top;\n",
              "    }\n",
              "\n",
              "    .dataframe thead th {\n",
              "        text-align: right;\n",
              "    }\n",
              "</style>\n",
              "<table border=\"1\" class=\"dataframe\">\n",
              "  <thead>\n",
              "    <tr style=\"text-align: right;\">\n",
              "      <th></th>\n",
              "      <th>given_name</th>\n",
              "      <th>surname</th>\n",
              "      <th>hba1c_start</th>\n",
              "      <th>hba1c_end</th>\n",
              "      <th>hba1c_change</th>\n",
              "      <th>treatment</th>\n",
              "      <th>dose</th>\n",
              "    </tr>\n",
              "  </thead>\n",
              "  <tbody>\n",
              "    <tr>\n",
              "      <th>0</th>\n",
              "      <td>veronika</td>\n",
              "      <td>jindrová</td>\n",
              "      <td>7.63</td>\n",
              "      <td>7.20</td>\n",
              "      <td>0.43</td>\n",
              "      <td>auralin</td>\n",
              "      <td>41u - 48u</td>\n",
              "    </tr>\n",
              "    <tr>\n",
              "      <th>3</th>\n",
              "      <td>skye</td>\n",
              "      <td>gormanston</td>\n",
              "      <td>7.97</td>\n",
              "      <td>7.62</td>\n",
              "      <td>0.35</td>\n",
              "      <td>auralin</td>\n",
              "      <td>33u - 36u</td>\n",
              "    </tr>\n",
              "    <tr>\n",
              "      <th>6</th>\n",
              "      <td>sophia</td>\n",
              "      <td>haugen</td>\n",
              "      <td>7.65</td>\n",
              "      <td>7.27</td>\n",
              "      <td>0.38</td>\n",
              "      <td>auralin</td>\n",
              "      <td>37u - 42u</td>\n",
              "    </tr>\n",
              "    <tr>\n",
              "      <th>7</th>\n",
              "      <td>eddie</td>\n",
              "      <td>archer</td>\n",
              "      <td>7.89</td>\n",
              "      <td>7.55</td>\n",
              "      <td>0.34</td>\n",
              "      <td>auralin</td>\n",
              "      <td>31u - 38u</td>\n",
              "    </tr>\n",
              "    <tr>\n",
              "      <th>9</th>\n",
              "      <td>asia</td>\n",
              "      <td>woźniak</td>\n",
              "      <td>7.76</td>\n",
              "      <td>7.37</td>\n",
              "      <td>0.39</td>\n",
              "      <td>auralin</td>\n",
              "      <td>30u - 36u</td>\n",
              "    </tr>\n",
              "  </tbody>\n",
              "</table>\n",
              "</div>"
            ],
            "text/plain": [
              "  given_name     surname  hba1c_start  ...  hba1c_change  treatment       dose\n",
              "0   veronika    jindrová         7.63  ...          0.43    auralin  41u - 48u\n",
              "3       skye  gormanston         7.97  ...          0.35    auralin  33u - 36u\n",
              "6     sophia      haugen         7.65  ...          0.38    auralin  37u - 42u\n",
              "7      eddie      archer         7.89  ...          0.34    auralin  31u - 38u\n",
              "9       asia     woźniak         7.76  ...          0.39    auralin  30u - 36u\n",
              "\n",
              "[5 rows x 7 columns]"
            ]
          },
          "metadata": {
            "tags": []
          },
          "execution_count": 31
        }
      ]
    },
    {
      "cell_type": "code",
      "metadata": {
        "id": "CMIVcP0WbMUe",
        "colab_type": "code",
        "outputId": "36764249-c28f-49a6-f1ee-1c17214f99f6",
        "colab": {
          "base_uri": "https://localhost:8080/",
          "height": 326
        }
      },
      "source": [
        "treatments_clean['dose_start'], treatments_clean['dose_end'] = treatments_clean['dose'].str.split(' - ', 1).str\n",
        "treatments_clean=treatments_clean.drop('dose',axis=1)\n",
        "treatments_clean.head()"
      ],
      "execution_count": 32,
      "outputs": [
        {
          "output_type": "stream",
          "text": [
            "/usr/local/lib/python3.6/dist-packages/ipykernel_launcher.py:1: SettingWithCopyWarning: \n",
            "A value is trying to be set on a copy of a slice from a DataFrame.\n",
            "Try using .loc[row_indexer,col_indexer] = value instead\n",
            "\n",
            "See the caveats in the documentation: http://pandas.pydata.org/pandas-docs/stable/user_guide/indexing.html#returning-a-view-versus-a-copy\n",
            "  \"\"\"Entry point for launching an IPython kernel.\n"
          ],
          "name": "stderr"
        },
        {
          "output_type": "execute_result",
          "data": {
            "text/html": [
              "<div>\n",
              "<style scoped>\n",
              "    .dataframe tbody tr th:only-of-type {\n",
              "        vertical-align: middle;\n",
              "    }\n",
              "\n",
              "    .dataframe tbody tr th {\n",
              "        vertical-align: top;\n",
              "    }\n",
              "\n",
              "    .dataframe thead th {\n",
              "        text-align: right;\n",
              "    }\n",
              "</style>\n",
              "<table border=\"1\" class=\"dataframe\">\n",
              "  <thead>\n",
              "    <tr style=\"text-align: right;\">\n",
              "      <th></th>\n",
              "      <th>given_name</th>\n",
              "      <th>surname</th>\n",
              "      <th>hba1c_start</th>\n",
              "      <th>hba1c_end</th>\n",
              "      <th>hba1c_change</th>\n",
              "      <th>treatment</th>\n",
              "      <th>dose_start</th>\n",
              "      <th>dose_end</th>\n",
              "    </tr>\n",
              "  </thead>\n",
              "  <tbody>\n",
              "    <tr>\n",
              "      <th>0</th>\n",
              "      <td>veronika</td>\n",
              "      <td>jindrová</td>\n",
              "      <td>7.63</td>\n",
              "      <td>7.20</td>\n",
              "      <td>0.43</td>\n",
              "      <td>auralin</td>\n",
              "      <td>41u</td>\n",
              "      <td>48u</td>\n",
              "    </tr>\n",
              "    <tr>\n",
              "      <th>3</th>\n",
              "      <td>skye</td>\n",
              "      <td>gormanston</td>\n",
              "      <td>7.97</td>\n",
              "      <td>7.62</td>\n",
              "      <td>0.35</td>\n",
              "      <td>auralin</td>\n",
              "      <td>33u</td>\n",
              "      <td>36u</td>\n",
              "    </tr>\n",
              "    <tr>\n",
              "      <th>6</th>\n",
              "      <td>sophia</td>\n",
              "      <td>haugen</td>\n",
              "      <td>7.65</td>\n",
              "      <td>7.27</td>\n",
              "      <td>0.38</td>\n",
              "      <td>auralin</td>\n",
              "      <td>37u</td>\n",
              "      <td>42u</td>\n",
              "    </tr>\n",
              "    <tr>\n",
              "      <th>7</th>\n",
              "      <td>eddie</td>\n",
              "      <td>archer</td>\n",
              "      <td>7.89</td>\n",
              "      <td>7.55</td>\n",
              "      <td>0.34</td>\n",
              "      <td>auralin</td>\n",
              "      <td>31u</td>\n",
              "      <td>38u</td>\n",
              "    </tr>\n",
              "    <tr>\n",
              "      <th>9</th>\n",
              "      <td>asia</td>\n",
              "      <td>woźniak</td>\n",
              "      <td>7.76</td>\n",
              "      <td>7.37</td>\n",
              "      <td>0.39</td>\n",
              "      <td>auralin</td>\n",
              "      <td>30u</td>\n",
              "      <td>36u</td>\n",
              "    </tr>\n",
              "  </tbody>\n",
              "</table>\n",
              "</div>"
            ],
            "text/plain": [
              "  given_name     surname  hba1c_start  ...  treatment  dose_start dose_end\n",
              "0   veronika    jindrová         7.63  ...    auralin         41u      48u\n",
              "3       skye  gormanston         7.97  ...    auralin         33u      36u\n",
              "6     sophia      haugen         7.65  ...    auralin         37u      42u\n",
              "7      eddie      archer         7.89  ...    auralin         31u      38u\n",
              "9       asia     woźniak         7.76  ...    auralin         30u      36u\n",
              "\n",
              "[5 rows x 8 columns]"
            ]
          },
          "metadata": {
            "tags": []
          },
          "execution_count": 32
        }
      ]
    },
    {
      "cell_type": "markdown",
      "metadata": {
        "id": "RiUkV7yIcG3J",
        "colab_type": "text"
      },
      "source": [
        "## Adverse reaction should be part of the treatments table\n",
        "### Define\n",
        "Merge the adverse_reaction column to the treatments table, joining on given name and surname."
      ]
    },
    {
      "cell_type": "code",
      "metadata": {
        "id": "WXGgsJ4Ub0uj",
        "colab_type": "code",
        "outputId": "aaee47fe-60ec-4ead-dd27-16eb21a813c9",
        "colab": {
          "base_uri": "https://localhost:8080/",
          "height": 844
        }
      },
      "source": [
        "treatments_clean = pd.merge(treatments_clean, adverse_reactions_clean,\n",
        "                            on=['given_name', 'surname'], how='left')\n",
        "#adding argument how='left' to preserve all the rows of the treatments \n",
        "#table (the left table)as not all patients suffered from adverse effects so a normal \n",
        "#merge without the how left parameter would have \n",
        "#merged only the common rows between the two tables\n",
        "treatments_clean.head(25)"
      ],
      "execution_count": 33,
      "outputs": [
        {
          "output_type": "execute_result",
          "data": {
            "text/html": [
              "<div>\n",
              "<style scoped>\n",
              "    .dataframe tbody tr th:only-of-type {\n",
              "        vertical-align: middle;\n",
              "    }\n",
              "\n",
              "    .dataframe tbody tr th {\n",
              "        vertical-align: top;\n",
              "    }\n",
              "\n",
              "    .dataframe thead th {\n",
              "        text-align: right;\n",
              "    }\n",
              "</style>\n",
              "<table border=\"1\" class=\"dataframe\">\n",
              "  <thead>\n",
              "    <tr style=\"text-align: right;\">\n",
              "      <th></th>\n",
              "      <th>given_name</th>\n",
              "      <th>surname</th>\n",
              "      <th>hba1c_start</th>\n",
              "      <th>hba1c_end</th>\n",
              "      <th>hba1c_change</th>\n",
              "      <th>treatment</th>\n",
              "      <th>dose_start</th>\n",
              "      <th>dose_end</th>\n",
              "      <th>adverse_reaction</th>\n",
              "    </tr>\n",
              "  </thead>\n",
              "  <tbody>\n",
              "    <tr>\n",
              "      <th>0</th>\n",
              "      <td>veronika</td>\n",
              "      <td>jindrová</td>\n",
              "      <td>7.63</td>\n",
              "      <td>7.20</td>\n",
              "      <td>0.43</td>\n",
              "      <td>auralin</td>\n",
              "      <td>41u</td>\n",
              "      <td>48u</td>\n",
              "      <td>NaN</td>\n",
              "    </tr>\n",
              "    <tr>\n",
              "      <th>1</th>\n",
              "      <td>skye</td>\n",
              "      <td>gormanston</td>\n",
              "      <td>7.97</td>\n",
              "      <td>7.62</td>\n",
              "      <td>0.35</td>\n",
              "      <td>auralin</td>\n",
              "      <td>33u</td>\n",
              "      <td>36u</td>\n",
              "      <td>NaN</td>\n",
              "    </tr>\n",
              "    <tr>\n",
              "      <th>2</th>\n",
              "      <td>sophia</td>\n",
              "      <td>haugen</td>\n",
              "      <td>7.65</td>\n",
              "      <td>7.27</td>\n",
              "      <td>0.38</td>\n",
              "      <td>auralin</td>\n",
              "      <td>37u</td>\n",
              "      <td>42u</td>\n",
              "      <td>NaN</td>\n",
              "    </tr>\n",
              "    <tr>\n",
              "      <th>3</th>\n",
              "      <td>eddie</td>\n",
              "      <td>archer</td>\n",
              "      <td>7.89</td>\n",
              "      <td>7.55</td>\n",
              "      <td>0.34</td>\n",
              "      <td>auralin</td>\n",
              "      <td>31u</td>\n",
              "      <td>38u</td>\n",
              "      <td>NaN</td>\n",
              "    </tr>\n",
              "    <tr>\n",
              "      <th>4</th>\n",
              "      <td>asia</td>\n",
              "      <td>woźniak</td>\n",
              "      <td>7.76</td>\n",
              "      <td>7.37</td>\n",
              "      <td>0.39</td>\n",
              "      <td>auralin</td>\n",
              "      <td>30u</td>\n",
              "      <td>36u</td>\n",
              "      <td>NaN</td>\n",
              "    </tr>\n",
              "    <tr>\n",
              "      <th>5</th>\n",
              "      <td>joseph</td>\n",
              "      <td>day</td>\n",
              "      <td>7.70</td>\n",
              "      <td>7.19</td>\n",
              "      <td>0.51</td>\n",
              "      <td>auralin</td>\n",
              "      <td>29u</td>\n",
              "      <td>36u</td>\n",
              "      <td>hypoglycemia</td>\n",
              "    </tr>\n",
              "    <tr>\n",
              "      <th>6</th>\n",
              "      <td>roxanne</td>\n",
              "      <td>andreyeva</td>\n",
              "      <td>9.54</td>\n",
              "      <td>9.14</td>\n",
              "      <td>0.40</td>\n",
              "      <td>auralin</td>\n",
              "      <td>29u</td>\n",
              "      <td>38u</td>\n",
              "      <td>NaN</td>\n",
              "    </tr>\n",
              "    <tr>\n",
              "      <th>7</th>\n",
              "      <td>simone</td>\n",
              "      <td>baumgaertner</td>\n",
              "      <td>7.74</td>\n",
              "      <td>7.30</td>\n",
              "      <td>0.44</td>\n",
              "      <td>auralin</td>\n",
              "      <td>27u</td>\n",
              "      <td>37u</td>\n",
              "      <td>NaN</td>\n",
              "    </tr>\n",
              "    <tr>\n",
              "      <th>8</th>\n",
              "      <td>enco</td>\n",
              "      <td>žibrik</td>\n",
              "      <td>7.78</td>\n",
              "      <td>7.34</td>\n",
              "      <td>0.44</td>\n",
              "      <td>auralin</td>\n",
              "      <td>55u</td>\n",
              "      <td>68u</td>\n",
              "      <td>NaN</td>\n",
              "    </tr>\n",
              "    <tr>\n",
              "      <th>9</th>\n",
              "      <td>camilla</td>\n",
              "      <td>zaitseva</td>\n",
              "      <td>7.53</td>\n",
              "      <td>7.13</td>\n",
              "      <td>0.40</td>\n",
              "      <td>auralin</td>\n",
              "      <td>28u</td>\n",
              "      <td>37u</td>\n",
              "      <td>NaN</td>\n",
              "    </tr>\n",
              "    <tr>\n",
              "      <th>10</th>\n",
              "      <td>tekla</td>\n",
              "      <td>walczak</td>\n",
              "      <td>7.61</td>\n",
              "      <td>7.29</td>\n",
              "      <td>0.32</td>\n",
              "      <td>auralin</td>\n",
              "      <td>29u</td>\n",
              "      <td>39u</td>\n",
              "      <td>NaN</td>\n",
              "    </tr>\n",
              "    <tr>\n",
              "      <th>11</th>\n",
              "      <td>brancaleone</td>\n",
              "      <td>russo</td>\n",
              "      <td>8.61</td>\n",
              "      <td>8.18</td>\n",
              "      <td>0.43</td>\n",
              "      <td>auralin</td>\n",
              "      <td>53u</td>\n",
              "      <td>60u</td>\n",
              "      <td>NaN</td>\n",
              "    </tr>\n",
              "    <tr>\n",
              "      <th>12</th>\n",
              "      <td>isac</td>\n",
              "      <td>berg</td>\n",
              "      <td>9.68</td>\n",
              "      <td>9.29</td>\n",
              "      <td>0.39</td>\n",
              "      <td>auralin</td>\n",
              "      <td>31u</td>\n",
              "      <td>41u</td>\n",
              "      <td>NaN</td>\n",
              "    </tr>\n",
              "    <tr>\n",
              "      <th>13</th>\n",
              "      <td>clinton</td>\n",
              "      <td>miller</td>\n",
              "      <td>7.79</td>\n",
              "      <td>7.40</td>\n",
              "      <td>0.39</td>\n",
              "      <td>auralin</td>\n",
              "      <td>42u</td>\n",
              "      <td>51u</td>\n",
              "      <td>throat irritation</td>\n",
              "    </tr>\n",
              "    <tr>\n",
              "      <th>14</th>\n",
              "      <td>eugene</td>\n",
              "      <td>mironov</td>\n",
              "      <td>7.81</td>\n",
              "      <td>7.48</td>\n",
              "      <td>0.33</td>\n",
              "      <td>auralin</td>\n",
              "      <td>42u</td>\n",
              "      <td>49u</td>\n",
              "      <td>NaN</td>\n",
              "    </tr>\n",
              "    <tr>\n",
              "      <th>15</th>\n",
              "      <td>szilveszter</td>\n",
              "      <td>totth</td>\n",
              "      <td>7.70</td>\n",
              "      <td>7.38</td>\n",
              "      <td>0.32</td>\n",
              "      <td>auralin</td>\n",
              "      <td>35u</td>\n",
              "      <td>39u</td>\n",
              "      <td>NaN</td>\n",
              "    </tr>\n",
              "    <tr>\n",
              "      <th>16</th>\n",
              "      <td>alexander</td>\n",
              "      <td>mathiesen</td>\n",
              "      <td>7.96</td>\n",
              "      <td>7.55</td>\n",
              "      <td>0.41</td>\n",
              "      <td>auralin</td>\n",
              "      <td>47u</td>\n",
              "      <td>58u</td>\n",
              "      <td>NaN</td>\n",
              "    </tr>\n",
              "    <tr>\n",
              "      <th>17</th>\n",
              "      <td>chỉ</td>\n",
              "      <td>lâm</td>\n",
              "      <td>7.68</td>\n",
              "      <td>7.24</td>\n",
              "      <td>0.44</td>\n",
              "      <td>auralin</td>\n",
              "      <td>45u</td>\n",
              "      <td>48u</td>\n",
              "      <td>NaN</td>\n",
              "    </tr>\n",
              "    <tr>\n",
              "      <th>18</th>\n",
              "      <td>władysław</td>\n",
              "      <td>wieczorek</td>\n",
              "      <td>7.92</td>\n",
              "      <td>7.47</td>\n",
              "      <td>0.45</td>\n",
              "      <td>auralin</td>\n",
              "      <td>24u</td>\n",
              "      <td>37u</td>\n",
              "      <td>NaN</td>\n",
              "    </tr>\n",
              "    <tr>\n",
              "      <th>19</th>\n",
              "      <td>kristján</td>\n",
              "      <td>ingason</td>\n",
              "      <td>7.92</td>\n",
              "      <td>7.57</td>\n",
              "      <td>0.35</td>\n",
              "      <td>auralin</td>\n",
              "      <td>44u</td>\n",
              "      <td>55u</td>\n",
              "      <td>NaN</td>\n",
              "    </tr>\n",
              "    <tr>\n",
              "      <th>20</th>\n",
              "      <td>marija</td>\n",
              "      <td>grubišić</td>\n",
              "      <td>7.53</td>\n",
              "      <td>7.15</td>\n",
              "      <td>0.38</td>\n",
              "      <td>auralin</td>\n",
              "      <td>37u</td>\n",
              "      <td>43u</td>\n",
              "      <td>NaN</td>\n",
              "    </tr>\n",
              "    <tr>\n",
              "      <th>21</th>\n",
              "      <td>sauli</td>\n",
              "      <td>koivuniemi</td>\n",
              "      <td>7.67</td>\n",
              "      <td>7.37</td>\n",
              "      <td>0.30</td>\n",
              "      <td>auralin</td>\n",
              "      <td>43u</td>\n",
              "      <td>47u</td>\n",
              "      <td>NaN</td>\n",
              "    </tr>\n",
              "    <tr>\n",
              "      <th>22</th>\n",
              "      <td>mariana</td>\n",
              "      <td>souza</td>\n",
              "      <td>7.86</td>\n",
              "      <td>7.51</td>\n",
              "      <td>0.35</td>\n",
              "      <td>auralin</td>\n",
              "      <td>36u</td>\n",
              "      <td>42u</td>\n",
              "      <td>NaN</td>\n",
              "    </tr>\n",
              "    <tr>\n",
              "      <th>23</th>\n",
              "      <td>kristoffer</td>\n",
              "      <td>martinsen</td>\n",
              "      <td>9.18</td>\n",
              "      <td>8.64</td>\n",
              "      <td>0.54</td>\n",
              "      <td>auralin</td>\n",
              "      <td>29u</td>\n",
              "      <td>37u</td>\n",
              "      <td>NaN</td>\n",
              "    </tr>\n",
              "    <tr>\n",
              "      <th>24</th>\n",
              "      <td>mỹ</td>\n",
              "      <td>quynh</td>\n",
              "      <td>7.61</td>\n",
              "      <td>7.16</td>\n",
              "      <td>0.45</td>\n",
              "      <td>auralin</td>\n",
              "      <td>57u</td>\n",
              "      <td>64u</td>\n",
              "      <td>NaN</td>\n",
              "    </tr>\n",
              "  </tbody>\n",
              "</table>\n",
              "</div>"
            ],
            "text/plain": [
              "     given_name       surname  ...  dose_end   adverse_reaction\n",
              "0      veronika      jindrová  ...       48u                NaN\n",
              "1          skye    gormanston  ...       36u                NaN\n",
              "2        sophia        haugen  ...       42u                NaN\n",
              "3         eddie        archer  ...       38u                NaN\n",
              "4          asia       woźniak  ...       36u                NaN\n",
              "5        joseph           day  ...       36u       hypoglycemia\n",
              "6       roxanne     andreyeva  ...       38u                NaN\n",
              "7        simone  baumgaertner  ...       37u                NaN\n",
              "8          enco        žibrik  ...       68u                NaN\n",
              "9       camilla      zaitseva  ...       37u                NaN\n",
              "10        tekla       walczak  ...       39u                NaN\n",
              "11  brancaleone         russo  ...       60u                NaN\n",
              "12         isac          berg  ...       41u                NaN\n",
              "13      clinton        miller  ...       51u  throat irritation\n",
              "14       eugene       mironov  ...       49u                NaN\n",
              "15  szilveszter         totth  ...       39u                NaN\n",
              "16    alexander     mathiesen  ...       58u                NaN\n",
              "17          chỉ           lâm  ...       48u                NaN\n",
              "18    władysław     wieczorek  ...       37u                NaN\n",
              "19     kristján       ingason  ...       55u                NaN\n",
              "20       marija      grubišić  ...       43u                NaN\n",
              "21        sauli    koivuniemi  ...       47u                NaN\n",
              "22      mariana         souza  ...       42u                NaN\n",
              "23   kristoffer     martinsen  ...       37u                NaN\n",
              "24           mỹ         quynh  ...       64u                NaN\n",
              "\n",
              "[25 rows x 9 columns]"
            ]
          },
          "metadata": {
            "tags": []
          },
          "execution_count": 33
        }
      ]
    },
    {
      "cell_type": "code",
      "metadata": {
        "id": "Ild5Y6Oycj31",
        "colab_type": "code",
        "outputId": "3dcc4d6b-e160-41c6-e0a8-a56afa28ebfb",
        "colab": {
          "base_uri": "https://localhost:8080/",
          "height": 139
        }
      },
      "source": [
        "id_names = patients_clean[['patient_id', 'given_name', 'surname']]\n",
        "id_names.given_name = id_names.given_name.str.lower()\n",
        "id_names.surname = id_names.surname.str.lower()\n",
        "treatments_clean = pd.merge(treatments_clean, id_names, on=['given_name', 'surname'])\n",
        "treatments_clean = treatments_clean.drop(['given_name', 'surname'], axis=1)"
      ],
      "execution_count": 34,
      "outputs": [
        {
          "output_type": "stream",
          "text": [
            "/usr/local/lib/python3.6/dist-packages/pandas/core/generic.py:5208: SettingWithCopyWarning: \n",
            "A value is trying to be set on a copy of a slice from a DataFrame.\n",
            "Try using .loc[row_indexer,col_indexer] = value instead\n",
            "\n",
            "See the caveats in the documentation: http://pandas.pydata.org/pandas-docs/stable/user_guide/indexing.html#returning-a-view-versus-a-copy\n",
            "  self[name] = value\n"
          ],
          "name": "stderr"
        }
      ]
    },
    {
      "cell_type": "code",
      "metadata": {
        "id": "ihbYd7t5ffkq",
        "colab_type": "code",
        "outputId": "acdb99aa-cae2-4ef6-f590-7bf3cc9b223a",
        "colab": {
          "base_uri": "https://localhost:8080/",
          "height": 473
        }
      },
      "source": [
        "treatments_clean"
      ],
      "execution_count": 35,
      "outputs": [
        {
          "output_type": "execute_result",
          "data": {
            "text/html": [
              "<div>\n",
              "<style scoped>\n",
              "    .dataframe tbody tr th:only-of-type {\n",
              "        vertical-align: middle;\n",
              "    }\n",
              "\n",
              "    .dataframe tbody tr th {\n",
              "        vertical-align: top;\n",
              "    }\n",
              "\n",
              "    .dataframe thead th {\n",
              "        text-align: right;\n",
              "    }\n",
              "</style>\n",
              "<table border=\"1\" class=\"dataframe\">\n",
              "  <thead>\n",
              "    <tr style=\"text-align: right;\">\n",
              "      <th></th>\n",
              "      <th>hba1c_start</th>\n",
              "      <th>hba1c_end</th>\n",
              "      <th>hba1c_change</th>\n",
              "      <th>treatment</th>\n",
              "      <th>dose_start</th>\n",
              "      <th>dose_end</th>\n",
              "      <th>adverse_reaction</th>\n",
              "      <th>patient_id</th>\n",
              "    </tr>\n",
              "  </thead>\n",
              "  <tbody>\n",
              "    <tr>\n",
              "      <th>0</th>\n",
              "      <td>7.63</td>\n",
              "      <td>7.20</td>\n",
              "      <td>0.43</td>\n",
              "      <td>auralin</td>\n",
              "      <td>41u</td>\n",
              "      <td>48u</td>\n",
              "      <td>NaN</td>\n",
              "      <td>225</td>\n",
              "    </tr>\n",
              "    <tr>\n",
              "      <th>1</th>\n",
              "      <td>7.97</td>\n",
              "      <td>7.62</td>\n",
              "      <td>0.35</td>\n",
              "      <td>auralin</td>\n",
              "      <td>33u</td>\n",
              "      <td>36u</td>\n",
              "      <td>NaN</td>\n",
              "      <td>242</td>\n",
              "    </tr>\n",
              "    <tr>\n",
              "      <th>2</th>\n",
              "      <td>7.65</td>\n",
              "      <td>7.27</td>\n",
              "      <td>0.38</td>\n",
              "      <td>auralin</td>\n",
              "      <td>37u</td>\n",
              "      <td>42u</td>\n",
              "      <td>NaN</td>\n",
              "      <td>345</td>\n",
              "    </tr>\n",
              "    <tr>\n",
              "      <th>3</th>\n",
              "      <td>7.89</td>\n",
              "      <td>7.55</td>\n",
              "      <td>0.34</td>\n",
              "      <td>auralin</td>\n",
              "      <td>31u</td>\n",
              "      <td>38u</td>\n",
              "      <td>NaN</td>\n",
              "      <td>276</td>\n",
              "    </tr>\n",
              "    <tr>\n",
              "      <th>4</th>\n",
              "      <td>7.76</td>\n",
              "      <td>7.37</td>\n",
              "      <td>0.39</td>\n",
              "      <td>auralin</td>\n",
              "      <td>30u</td>\n",
              "      <td>36u</td>\n",
              "      <td>NaN</td>\n",
              "      <td>15</td>\n",
              "    </tr>\n",
              "    <tr>\n",
              "      <th>...</th>\n",
              "      <td>...</td>\n",
              "      <td>...</td>\n",
              "      <td>...</td>\n",
              "      <td>...</td>\n",
              "      <td>...</td>\n",
              "      <td>...</td>\n",
              "      <td>...</td>\n",
              "      <td>...</td>\n",
              "    </tr>\n",
              "    <tr>\n",
              "      <th>344</th>\n",
              "      <td>7.51</td>\n",
              "      <td>7.06</td>\n",
              "      <td>0.45</td>\n",
              "      <td>novodra</td>\n",
              "      <td>55u</td>\n",
              "      <td>51u</td>\n",
              "      <td>nausea</td>\n",
              "      <td>153</td>\n",
              "    </tr>\n",
              "    <tr>\n",
              "      <th>345</th>\n",
              "      <td>7.67</td>\n",
              "      <td>7.30</td>\n",
              "      <td>0.37</td>\n",
              "      <td>novodra</td>\n",
              "      <td>26u</td>\n",
              "      <td>23u</td>\n",
              "      <td>NaN</td>\n",
              "      <td>420</td>\n",
              "    </tr>\n",
              "    <tr>\n",
              "      <th>346</th>\n",
              "      <td>9.21</td>\n",
              "      <td>8.80</td>\n",
              "      <td>0.41</td>\n",
              "      <td>novodra</td>\n",
              "      <td>22u</td>\n",
              "      <td>23u</td>\n",
              "      <td>injection site discomfort</td>\n",
              "      <td>336</td>\n",
              "    </tr>\n",
              "    <tr>\n",
              "      <th>347</th>\n",
              "      <td>7.96</td>\n",
              "      <td>7.51</td>\n",
              "      <td>0.45</td>\n",
              "      <td>novodra</td>\n",
              "      <td>28u</td>\n",
              "      <td>26u</td>\n",
              "      <td>hypoglycemia</td>\n",
              "      <td>25</td>\n",
              "    </tr>\n",
              "    <tr>\n",
              "      <th>348</th>\n",
              "      <td>7.68</td>\n",
              "      <td>7.21</td>\n",
              "      <td>0.47</td>\n",
              "      <td>novodra</td>\n",
              "      <td>42u</td>\n",
              "      <td>44u</td>\n",
              "      <td>injection site discomfort</td>\n",
              "      <td>477</td>\n",
              "    </tr>\n",
              "  </tbody>\n",
              "</table>\n",
              "<p>349 rows × 8 columns</p>\n",
              "</div>"
            ],
            "text/plain": [
              "     hba1c_start  hba1c_end  ...           adverse_reaction patient_id\n",
              "0           7.63       7.20  ...                        NaN        225\n",
              "1           7.97       7.62  ...                        NaN        242\n",
              "2           7.65       7.27  ...                        NaN        345\n",
              "3           7.89       7.55  ...                        NaN        276\n",
              "4           7.76       7.37  ...                        NaN         15\n",
              "..           ...        ...  ...                        ...        ...\n",
              "344         7.51       7.06  ...                     nausea        153\n",
              "345         7.67       7.30  ...                        NaN        420\n",
              "346         9.21       8.80  ...  injection site discomfort        336\n",
              "347         7.96       7.51  ...               hypoglycemia         25\n",
              "348         7.68       7.21  ...  injection site discomfort        477\n",
              "\n",
              "[349 rows x 8 columns]"
            ]
          },
          "metadata": {
            "tags": []
          },
          "execution_count": 35
        }
      ]
    },
    {
      "cell_type": "code",
      "metadata": {
        "id": "gggPDnBWfiHd",
        "colab_type": "code",
        "outputId": "ad35c1b5-fbcb-48d1-f954-c00757e9b758",
        "colab": {
          "base_uri": "https://localhost:8080/",
          "height": 153
        }
      },
      "source": [
        "list(treatments_clean)"
      ],
      "execution_count": 36,
      "outputs": [
        {
          "output_type": "execute_result",
          "data": {
            "text/plain": [
              "['hba1c_start',\n",
              " 'hba1c_end',\n",
              " 'hba1c_change',\n",
              " 'treatment',\n",
              " 'dose_start',\n",
              " 'dose_end',\n",
              " 'adverse_reaction',\n",
              " 'patient_id']"
            ]
          },
          "metadata": {
            "tags": []
          },
          "execution_count": 36
        }
      ]
    },
    {
      "cell_type": "code",
      "metadata": {
        "id": "X4CXrLEagdMk",
        "colab_type": "code",
        "colab": {}
      },
      "source": [
        "treatments_clean=treatments_clean[['patient_id','treatment',\n",
        " 'dose_start',\n",
        " 'dose_end',\n",
        " 'adverse_reaction',\n",
        " 'hba1c_start',\n",
        " 'hba1c_end',\n",
        " 'hba1c_change',\n",
        " ]]"
      ],
      "execution_count": 0,
      "outputs": []
    },
    {
      "cell_type": "code",
      "metadata": {
        "id": "__pVUPmYg3I_",
        "colab_type": "code",
        "outputId": "93d12460-03dc-414d-839a-ed1cd0c71e12",
        "colab": {
          "base_uri": "https://localhost:8080/",
          "height": 473
        }
      },
      "source": [
        "treatments_clean"
      ],
      "execution_count": 38,
      "outputs": [
        {
          "output_type": "execute_result",
          "data": {
            "text/html": [
              "<div>\n",
              "<style scoped>\n",
              "    .dataframe tbody tr th:only-of-type {\n",
              "        vertical-align: middle;\n",
              "    }\n",
              "\n",
              "    .dataframe tbody tr th {\n",
              "        vertical-align: top;\n",
              "    }\n",
              "\n",
              "    .dataframe thead th {\n",
              "        text-align: right;\n",
              "    }\n",
              "</style>\n",
              "<table border=\"1\" class=\"dataframe\">\n",
              "  <thead>\n",
              "    <tr style=\"text-align: right;\">\n",
              "      <th></th>\n",
              "      <th>patient_id</th>\n",
              "      <th>treatment</th>\n",
              "      <th>dose_start</th>\n",
              "      <th>dose_end</th>\n",
              "      <th>adverse_reaction</th>\n",
              "      <th>hba1c_start</th>\n",
              "      <th>hba1c_end</th>\n",
              "      <th>hba1c_change</th>\n",
              "    </tr>\n",
              "  </thead>\n",
              "  <tbody>\n",
              "    <tr>\n",
              "      <th>0</th>\n",
              "      <td>225</td>\n",
              "      <td>auralin</td>\n",
              "      <td>41u</td>\n",
              "      <td>48u</td>\n",
              "      <td>NaN</td>\n",
              "      <td>7.63</td>\n",
              "      <td>7.20</td>\n",
              "      <td>0.43</td>\n",
              "    </tr>\n",
              "    <tr>\n",
              "      <th>1</th>\n",
              "      <td>242</td>\n",
              "      <td>auralin</td>\n",
              "      <td>33u</td>\n",
              "      <td>36u</td>\n",
              "      <td>NaN</td>\n",
              "      <td>7.97</td>\n",
              "      <td>7.62</td>\n",
              "      <td>0.35</td>\n",
              "    </tr>\n",
              "    <tr>\n",
              "      <th>2</th>\n",
              "      <td>345</td>\n",
              "      <td>auralin</td>\n",
              "      <td>37u</td>\n",
              "      <td>42u</td>\n",
              "      <td>NaN</td>\n",
              "      <td>7.65</td>\n",
              "      <td>7.27</td>\n",
              "      <td>0.38</td>\n",
              "    </tr>\n",
              "    <tr>\n",
              "      <th>3</th>\n",
              "      <td>276</td>\n",
              "      <td>auralin</td>\n",
              "      <td>31u</td>\n",
              "      <td>38u</td>\n",
              "      <td>NaN</td>\n",
              "      <td>7.89</td>\n",
              "      <td>7.55</td>\n",
              "      <td>0.34</td>\n",
              "    </tr>\n",
              "    <tr>\n",
              "      <th>4</th>\n",
              "      <td>15</td>\n",
              "      <td>auralin</td>\n",
              "      <td>30u</td>\n",
              "      <td>36u</td>\n",
              "      <td>NaN</td>\n",
              "      <td>7.76</td>\n",
              "      <td>7.37</td>\n",
              "      <td>0.39</td>\n",
              "    </tr>\n",
              "    <tr>\n",
              "      <th>...</th>\n",
              "      <td>...</td>\n",
              "      <td>...</td>\n",
              "      <td>...</td>\n",
              "      <td>...</td>\n",
              "      <td>...</td>\n",
              "      <td>...</td>\n",
              "      <td>...</td>\n",
              "      <td>...</td>\n",
              "    </tr>\n",
              "    <tr>\n",
              "      <th>344</th>\n",
              "      <td>153</td>\n",
              "      <td>novodra</td>\n",
              "      <td>55u</td>\n",
              "      <td>51u</td>\n",
              "      <td>nausea</td>\n",
              "      <td>7.51</td>\n",
              "      <td>7.06</td>\n",
              "      <td>0.45</td>\n",
              "    </tr>\n",
              "    <tr>\n",
              "      <th>345</th>\n",
              "      <td>420</td>\n",
              "      <td>novodra</td>\n",
              "      <td>26u</td>\n",
              "      <td>23u</td>\n",
              "      <td>NaN</td>\n",
              "      <td>7.67</td>\n",
              "      <td>7.30</td>\n",
              "      <td>0.37</td>\n",
              "    </tr>\n",
              "    <tr>\n",
              "      <th>346</th>\n",
              "      <td>336</td>\n",
              "      <td>novodra</td>\n",
              "      <td>22u</td>\n",
              "      <td>23u</td>\n",
              "      <td>injection site discomfort</td>\n",
              "      <td>9.21</td>\n",
              "      <td>8.80</td>\n",
              "      <td>0.41</td>\n",
              "    </tr>\n",
              "    <tr>\n",
              "      <th>347</th>\n",
              "      <td>25</td>\n",
              "      <td>novodra</td>\n",
              "      <td>28u</td>\n",
              "      <td>26u</td>\n",
              "      <td>hypoglycemia</td>\n",
              "      <td>7.96</td>\n",
              "      <td>7.51</td>\n",
              "      <td>0.45</td>\n",
              "    </tr>\n",
              "    <tr>\n",
              "      <th>348</th>\n",
              "      <td>477</td>\n",
              "      <td>novodra</td>\n",
              "      <td>42u</td>\n",
              "      <td>44u</td>\n",
              "      <td>injection site discomfort</td>\n",
              "      <td>7.68</td>\n",
              "      <td>7.21</td>\n",
              "      <td>0.47</td>\n",
              "    </tr>\n",
              "  </tbody>\n",
              "</table>\n",
              "<p>349 rows × 8 columns</p>\n",
              "</div>"
            ],
            "text/plain": [
              "     patient_id treatment dose_start  ... hba1c_start hba1c_end  hba1c_change\n",
              "0           225   auralin        41u  ...        7.63      7.20          0.43\n",
              "1           242   auralin        33u  ...        7.97      7.62          0.35\n",
              "2           345   auralin        37u  ...        7.65      7.27          0.38\n",
              "3           276   auralin        31u  ...        7.89      7.55          0.34\n",
              "4            15   auralin        30u  ...        7.76      7.37          0.39\n",
              "..          ...       ...        ...  ...         ...       ...           ...\n",
              "344         153   novodra        55u  ...        7.51      7.06          0.45\n",
              "345         420   novodra        26u  ...        7.67      7.30          0.37\n",
              "346         336   novodra        22u  ...        9.21      8.80          0.41\n",
              "347          25   novodra        28u  ...        7.96      7.51          0.45\n",
              "348         477   novodra        42u  ...        7.68      7.21          0.47\n",
              "\n",
              "[349 rows x 8 columns]"
            ]
          },
          "metadata": {
            "tags": []
          },
          "execution_count": 38
        }
      ]
    },
    {
      "cell_type": "code",
      "metadata": {
        "id": "lCudjNKzg7wp",
        "colab_type": "code",
        "colab": {
          "base_uri": "https://localhost:8080/",
          "height": 357
        },
        "outputId": "dc711da2-d95c-4ee5-ffcf-4f40e581917a"
      },
      "source": [
        "patients_clean.info()"
      ],
      "execution_count": 76,
      "outputs": [
        {
          "output_type": "stream",
          "text": [
            "<class 'pandas.core.frame.DataFrame'>\n",
            "RangeIndex: 503 entries, 0 to 502\n",
            "Data columns (total 15 columns):\n",
            "patient_id      503 non-null int64\n",
            "assigned_sex    503 non-null object\n",
            "given_name      503 non-null object\n",
            "surname         503 non-null object\n",
            "address         491 non-null object\n",
            "city            491 non-null object\n",
            "state           491 non-null object\n",
            "zip_code        503 non-null object\n",
            "country         491 non-null object\n",
            "birthdate       503 non-null datetime64[ns]\n",
            "weight          503 non-null float64\n",
            "height          503 non-null int64\n",
            "bmi             503 non-null float64\n",
            "phone_number    491 non-null object\n",
            "email           491 non-null object\n",
            "dtypes: datetime64[ns](1), float64(2), int64(2), object(10)\n",
            "memory usage: 59.1+ KB\n"
          ],
          "name": "stdout"
        }
      ]
    },
    {
      "cell_type": "code",
      "metadata": {
        "id": "mRRjf5k_Bdfo",
        "colab_type": "code",
        "colab": {
          "base_uri": "https://localhost:8080/",
          "height": 221
        },
        "outputId": "2f0a6571-c4ca-4d20-e2b2-fe4e67784478"
      },
      "source": [
        "patients_clean['zip_code']"
      ],
      "execution_count": 85,
      "outputs": [
        {
          "output_type": "execute_result",
          "data": {
            "text/plain": [
              "0      92390\n",
              "1      61812\n",
              "2      68467\n",
              "3      07095\n",
              "4      36303\n",
              "       ...  \n",
              "498    03852\n",
              "499    86341\n",
              "500    64110\n",
              "501      NaN\n",
              "502      NaN\n",
              "Name: zip_code, Length: 503, dtype: object"
            ]
          },
          "metadata": {
            "tags": []
          },
          "execution_count": 85
        }
      ]
    },
    {
      "cell_type": "code",
      "metadata": {
        "id": "RzESX-tzBmns",
        "colab_type": "code",
        "colab": {}
      },
      "source": [
        "patients_clean['zip_code']=patients_clean['zip_code'].astype(str).str[:-2].str.pad(5,fillchar='0')\n"
      ],
      "execution_count": 0,
      "outputs": []
    },
    {
      "cell_type": "code",
      "metadata": {
        "id": "IOS-7m_0Lutv",
        "colab_type": "code",
        "colab": {}
      },
      "source": [
        "import numpy as np\n",
        "patients_clean['zip_code']=patients_clean['zip_code'].replace('0000n',np.nan)"
      ],
      "execution_count": 0,
      "outputs": []
    },
    {
      "cell_type": "code",
      "metadata": {
        "id": "UaVqffPzB89-",
        "colab_type": "code",
        "colab": {}
      },
      "source": [
        "patients_clean['height']=patients_clean['height'].replace({27:72})"
      ],
      "execution_count": 0,
      "outputs": []
    },
    {
      "cell_type": "code",
      "metadata": {
        "id": "a4EaEqKRCzqS",
        "colab_type": "code",
        "colab": {
          "base_uri": "https://localhost:8080/",
          "height": 151
        },
        "outputId": "44a4f7da-fbab-4601-e6c8-116cf5661bb5"
      },
      "source": [
        "patients_clean.query('patient_id==5')"
      ],
      "execution_count": 56,
      "outputs": [
        {
          "output_type": "execute_result",
          "data": {
            "text/html": [
              "<div>\n",
              "<style scoped>\n",
              "    .dataframe tbody tr th:only-of-type {\n",
              "        vertical-align: middle;\n",
              "    }\n",
              "\n",
              "    .dataframe tbody tr th {\n",
              "        vertical-align: top;\n",
              "    }\n",
              "\n",
              "    .dataframe thead th {\n",
              "        text-align: right;\n",
              "    }\n",
              "</style>\n",
              "<table border=\"1\" class=\"dataframe\">\n",
              "  <thead>\n",
              "    <tr style=\"text-align: right;\">\n",
              "      <th></th>\n",
              "      <th>patient_id</th>\n",
              "      <th>assigned_sex</th>\n",
              "      <th>given_name</th>\n",
              "      <th>surname</th>\n",
              "      <th>address</th>\n",
              "      <th>city</th>\n",
              "      <th>state</th>\n",
              "      <th>zip_code</th>\n",
              "      <th>country</th>\n",
              "      <th>birthdate</th>\n",
              "      <th>weight</th>\n",
              "      <th>height</th>\n",
              "      <th>bmi</th>\n",
              "      <th>phone_number</th>\n",
              "      <th>email</th>\n",
              "    </tr>\n",
              "  </thead>\n",
              "  <tbody>\n",
              "    <tr>\n",
              "      <th>4</th>\n",
              "      <td>5</td>\n",
              "      <td>male</td>\n",
              "      <td>Tim</td>\n",
              "      <td>Neudorf</td>\n",
              "      <td>1428 Turkey Pen Lane</td>\n",
              "      <td>Dothan</td>\n",
              "      <td>AL</td>\n",
              "      <td>36303</td>\n",
              "      <td>United States</td>\n",
              "      <td>2/18/1928</td>\n",
              "      <td>192.3</td>\n",
              "      <td>72</td>\n",
              "      <td>26.1</td>\n",
              "      <td>334-515-7487</td>\n",
              "      <td>TimNeudorf@cuvox.de</td>\n",
              "    </tr>\n",
              "  </tbody>\n",
              "</table>\n",
              "</div>"
            ],
            "text/plain": [
              "   patient_id assigned_sex given_name  ...   bmi  phone_number                email\n",
              "4           5         male        Tim  ...  26.1  334-515-7487  TimNeudorf@cuvox.de\n",
              "\n",
              "[1 rows x 15 columns]"
            ]
          },
          "metadata": {
            "tags": []
          },
          "execution_count": 56
        }
      ]
    },
    {
      "cell_type": "code",
      "metadata": {
        "id": "3fSNWF_VDrN1",
        "colab_type": "code",
        "colab": {
          "base_uri": "https://localhost:8080/",
          "height": 34
        },
        "outputId": "060f59ce-3781-4cc6-b331-51db53814448"
      },
      "source": [
        "patients_clean['given_name'].duplicated().all()"
      ],
      "execution_count": 60,
      "outputs": [
        {
          "output_type": "execute_result",
          "data": {
            "text/plain": [
              "False"
            ]
          },
          "metadata": {
            "tags": []
          },
          "execution_count": 60
        }
      ]
    },
    {
      "cell_type": "code",
      "metadata": {
        "id": "w-w_emZyE3KE",
        "colab_type": "code",
        "colab": {}
      },
      "source": [
        "patients_clean['given_name']=patients_clean['given_name'].replace({'Dsvid':'David'})"
      ],
      "execution_count": 0,
      "outputs": []
    },
    {
      "cell_type": "code",
      "metadata": {
        "id": "NHFRRlLMFYzi",
        "colab_type": "code",
        "colab": {}
      },
      "source": [
        "patients_clean['birthdate']=pd.to_datetime(patients_clean['birthdate'])"
      ],
      "execution_count": 0,
      "outputs": []
    },
    {
      "cell_type": "code",
      "metadata": {
        "id": "7B3SR9a4HZ3R",
        "colab_type": "code",
        "colab": {
          "base_uri": "https://localhost:8080/",
          "height": 221
        },
        "outputId": "4ae605f7-547b-4e3c-a137-25813a821b71"
      },
      "source": [
        "patients_clean['birthdate']"
      ],
      "execution_count": 75,
      "outputs": [
        {
          "output_type": "execute_result",
          "data": {
            "text/plain": [
              "0     1976-07-10\n",
              "1     1967-04-03\n",
              "2     1980-02-19\n",
              "3     1951-07-26\n",
              "4     1928-02-18\n",
              "         ...    \n",
              "498   1959-04-10\n",
              "499   1948-03-26\n",
              "500   1971-01-13\n",
              "501   1952-02-13\n",
              "502   1954-05-03\n",
              "Name: birthdate, Length: 503, dtype: datetime64[ns]"
            ]
          },
          "metadata": {
            "tags": []
          },
          "execution_count": 75
        }
      ]
    },
    {
      "cell_type": "code",
      "metadata": {
        "id": "Dq71JpL1Is9g",
        "colab_type": "code",
        "colab": {
          "base_uri": "https://localhost:8080/",
          "height": 379
        },
        "outputId": "6868261c-03d9-4636-8fd1-4eb3df13b17c"
      },
      "source": [
        "treatments_clean.head(10)"
      ],
      "execution_count": 77,
      "outputs": [
        {
          "output_type": "execute_result",
          "data": {
            "text/html": [
              "<div>\n",
              "<style scoped>\n",
              "    .dataframe tbody tr th:only-of-type {\n",
              "        vertical-align: middle;\n",
              "    }\n",
              "\n",
              "    .dataframe tbody tr th {\n",
              "        vertical-align: top;\n",
              "    }\n",
              "\n",
              "    .dataframe thead th {\n",
              "        text-align: right;\n",
              "    }\n",
              "</style>\n",
              "<table border=\"1\" class=\"dataframe\">\n",
              "  <thead>\n",
              "    <tr style=\"text-align: right;\">\n",
              "      <th></th>\n",
              "      <th>patient_id</th>\n",
              "      <th>treatment</th>\n",
              "      <th>dose_start</th>\n",
              "      <th>dose_end</th>\n",
              "      <th>adverse_reaction</th>\n",
              "      <th>hba1c_start</th>\n",
              "      <th>hba1c_end</th>\n",
              "      <th>hba1c_change</th>\n",
              "    </tr>\n",
              "  </thead>\n",
              "  <tbody>\n",
              "    <tr>\n",
              "      <th>0</th>\n",
              "      <td>225</td>\n",
              "      <td>auralin</td>\n",
              "      <td>41u</td>\n",
              "      <td>48u</td>\n",
              "      <td>NaN</td>\n",
              "      <td>7.63</td>\n",
              "      <td>7.20</td>\n",
              "      <td>0.43</td>\n",
              "    </tr>\n",
              "    <tr>\n",
              "      <th>1</th>\n",
              "      <td>242</td>\n",
              "      <td>auralin</td>\n",
              "      <td>33u</td>\n",
              "      <td>36u</td>\n",
              "      <td>NaN</td>\n",
              "      <td>7.97</td>\n",
              "      <td>7.62</td>\n",
              "      <td>0.35</td>\n",
              "    </tr>\n",
              "    <tr>\n",
              "      <th>2</th>\n",
              "      <td>345</td>\n",
              "      <td>auralin</td>\n",
              "      <td>37u</td>\n",
              "      <td>42u</td>\n",
              "      <td>NaN</td>\n",
              "      <td>7.65</td>\n",
              "      <td>7.27</td>\n",
              "      <td>0.38</td>\n",
              "    </tr>\n",
              "    <tr>\n",
              "      <th>3</th>\n",
              "      <td>276</td>\n",
              "      <td>auralin</td>\n",
              "      <td>31u</td>\n",
              "      <td>38u</td>\n",
              "      <td>NaN</td>\n",
              "      <td>7.89</td>\n",
              "      <td>7.55</td>\n",
              "      <td>0.34</td>\n",
              "    </tr>\n",
              "    <tr>\n",
              "      <th>4</th>\n",
              "      <td>15</td>\n",
              "      <td>auralin</td>\n",
              "      <td>30u</td>\n",
              "      <td>36u</td>\n",
              "      <td>NaN</td>\n",
              "      <td>7.76</td>\n",
              "      <td>7.37</td>\n",
              "      <td>0.39</td>\n",
              "    </tr>\n",
              "    <tr>\n",
              "      <th>5</th>\n",
              "      <td>70</td>\n",
              "      <td>auralin</td>\n",
              "      <td>29u</td>\n",
              "      <td>36u</td>\n",
              "      <td>hypoglycemia</td>\n",
              "      <td>7.70</td>\n",
              "      <td>7.19</td>\n",
              "      <td>0.51</td>\n",
              "    </tr>\n",
              "    <tr>\n",
              "      <th>6</th>\n",
              "      <td>70</td>\n",
              "      <td>auralin</td>\n",
              "      <td>29u</td>\n",
              "      <td>36u</td>\n",
              "      <td>hypoglycemia</td>\n",
              "      <td>7.70</td>\n",
              "      <td>7.19</td>\n",
              "      <td>0.51</td>\n",
              "    </tr>\n",
              "    <tr>\n",
              "      <th>7</th>\n",
              "      <td>18</td>\n",
              "      <td>auralin</td>\n",
              "      <td>29u</td>\n",
              "      <td>38u</td>\n",
              "      <td>NaN</td>\n",
              "      <td>9.54</td>\n",
              "      <td>9.14</td>\n",
              "      <td>0.40</td>\n",
              "    </tr>\n",
              "    <tr>\n",
              "      <th>8</th>\n",
              "      <td>424</td>\n",
              "      <td>auralin</td>\n",
              "      <td>27u</td>\n",
              "      <td>37u</td>\n",
              "      <td>NaN</td>\n",
              "      <td>7.74</td>\n",
              "      <td>7.30</td>\n",
              "      <td>0.44</td>\n",
              "    </tr>\n",
              "    <tr>\n",
              "      <th>9</th>\n",
              "      <td>292</td>\n",
              "      <td>auralin</td>\n",
              "      <td>55u</td>\n",
              "      <td>68u</td>\n",
              "      <td>NaN</td>\n",
              "      <td>7.78</td>\n",
              "      <td>7.34</td>\n",
              "      <td>0.44</td>\n",
              "    </tr>\n",
              "  </tbody>\n",
              "</table>\n",
              "</div>"
            ],
            "text/plain": [
              "   patient_id treatment dose_start  ... hba1c_start hba1c_end  hba1c_change\n",
              "0         225   auralin        41u  ...        7.63      7.20          0.43\n",
              "1         242   auralin        33u  ...        7.97      7.62          0.35\n",
              "2         345   auralin        37u  ...        7.65      7.27          0.38\n",
              "3         276   auralin        31u  ...        7.89      7.55          0.34\n",
              "4          15   auralin        30u  ...        7.76      7.37          0.39\n",
              "5          70   auralin        29u  ...        7.70      7.19          0.51\n",
              "6          70   auralin        29u  ...        7.70      7.19          0.51\n",
              "7          18   auralin        29u  ...        9.54      9.14          0.40\n",
              "8         424   auralin        27u  ...        7.74      7.30          0.44\n",
              "9         292   auralin        55u  ...        7.78      7.34          0.44\n",
              "\n",
              "[10 rows x 8 columns]"
            ]
          },
          "metadata": {
            "tags": []
          },
          "execution_count": 77
        }
      ]
    },
    {
      "cell_type": "code",
      "metadata": {
        "id": "f5z5vLzIJaV3",
        "colab_type": "code",
        "colab": {}
      },
      "source": [
        "treatments_clean['dose_start']=treatments_clean['dose_start'].str[:-1].astype('int')"
      ],
      "execution_count": 0,
      "outputs": []
    },
    {
      "cell_type": "code",
      "metadata": {
        "id": "cRkLFXHYJ-tX",
        "colab_type": "code",
        "colab": {}
      },
      "source": [
        "treatments_clean['dose_end']=treatments_clean['dose_end'].str[:-1].astype('int')"
      ],
      "execution_count": 0,
      "outputs": []
    },
    {
      "cell_type": "code",
      "metadata": {
        "id": "aixfuhZmKGiX",
        "colab_type": "code",
        "colab": {
          "base_uri": "https://localhost:8080/",
          "height": 419
        },
        "outputId": "0dfe00e2-54f1-4d70-9756-53fd69cc393d"
      },
      "source": [
        "treatments_clean[['dose_start','dose_end']]"
      ],
      "execution_count": 80,
      "outputs": [
        {
          "output_type": "execute_result",
          "data": {
            "text/html": [
              "<div>\n",
              "<style scoped>\n",
              "    .dataframe tbody tr th:only-of-type {\n",
              "        vertical-align: middle;\n",
              "    }\n",
              "\n",
              "    .dataframe tbody tr th {\n",
              "        vertical-align: top;\n",
              "    }\n",
              "\n",
              "    .dataframe thead th {\n",
              "        text-align: right;\n",
              "    }\n",
              "</style>\n",
              "<table border=\"1\" class=\"dataframe\">\n",
              "  <thead>\n",
              "    <tr style=\"text-align: right;\">\n",
              "      <th></th>\n",
              "      <th>dose_start</th>\n",
              "      <th>dose_end</th>\n",
              "    </tr>\n",
              "  </thead>\n",
              "  <tbody>\n",
              "    <tr>\n",
              "      <th>0</th>\n",
              "      <td>41</td>\n",
              "      <td>48</td>\n",
              "    </tr>\n",
              "    <tr>\n",
              "      <th>1</th>\n",
              "      <td>33</td>\n",
              "      <td>36</td>\n",
              "    </tr>\n",
              "    <tr>\n",
              "      <th>2</th>\n",
              "      <td>37</td>\n",
              "      <td>42</td>\n",
              "    </tr>\n",
              "    <tr>\n",
              "      <th>3</th>\n",
              "      <td>31</td>\n",
              "      <td>38</td>\n",
              "    </tr>\n",
              "    <tr>\n",
              "      <th>4</th>\n",
              "      <td>30</td>\n",
              "      <td>36</td>\n",
              "    </tr>\n",
              "    <tr>\n",
              "      <th>...</th>\n",
              "      <td>...</td>\n",
              "      <td>...</td>\n",
              "    </tr>\n",
              "    <tr>\n",
              "      <th>344</th>\n",
              "      <td>55</td>\n",
              "      <td>51</td>\n",
              "    </tr>\n",
              "    <tr>\n",
              "      <th>345</th>\n",
              "      <td>26</td>\n",
              "      <td>23</td>\n",
              "    </tr>\n",
              "    <tr>\n",
              "      <th>346</th>\n",
              "      <td>22</td>\n",
              "      <td>23</td>\n",
              "    </tr>\n",
              "    <tr>\n",
              "      <th>347</th>\n",
              "      <td>28</td>\n",
              "      <td>26</td>\n",
              "    </tr>\n",
              "    <tr>\n",
              "      <th>348</th>\n",
              "      <td>42</td>\n",
              "      <td>44</td>\n",
              "    </tr>\n",
              "  </tbody>\n",
              "</table>\n",
              "<p>349 rows × 2 columns</p>\n",
              "</div>"
            ],
            "text/plain": [
              "     dose_start  dose_end\n",
              "0            41        48\n",
              "1            33        36\n",
              "2            37        42\n",
              "3            31        38\n",
              "4            30        36\n",
              "..          ...       ...\n",
              "344          55        51\n",
              "345          26        23\n",
              "346          22        23\n",
              "347          28        26\n",
              "348          42        44\n",
              "\n",
              "[349 rows x 2 columns]"
            ]
          },
          "metadata": {
            "tags": []
          },
          "execution_count": 80
        }
      ]
    },
    {
      "cell_type": "code",
      "metadata": {
        "id": "RwqSS-2GKf1g",
        "colab_type": "code",
        "colab": {
          "base_uri": "https://localhost:8080/",
          "height": 68
        },
        "outputId": "afcb028b-0fed-4076-ec9e-c18b0b17e315"
      },
      "source": [
        "treatments_clean[['dose_start','dose_end']].dtypes"
      ],
      "execution_count": 81,
      "outputs": [
        {
          "output_type": "execute_result",
          "data": {
            "text/plain": [
              "dose_start    int64\n",
              "dose_end      int64\n",
              "dtype: object"
            ]
          },
          "metadata": {
            "tags": []
          },
          "execution_count": 81
        }
      ]
    },
    {
      "cell_type": "code",
      "metadata": {
        "id": "iDP7j-IqKl6w",
        "colab_type": "code",
        "colab": {}
      },
      "source": [
        "# Mapping from full state name to abbreviation\n",
        "state_abbrev = {'California': 'CA',\n",
        "                'New York': 'NY',\n",
        "                'Illinois': 'IL',\n",
        "                'Florida': 'FL',\n",
        "                'Nebraska': 'NE'}\n",
        "\n",
        "# Function to apply\n",
        "def abbreviate_state(patient):\n",
        "    if patient['state'] in state_abbrev.keys():\n",
        "        abbrev = state_abbrev[patient['state']]\n",
        "        return abbrev\n",
        "    else:\n",
        "        return patient['state']\n",
        "    \n",
        "patients_clean['state'] = patients_clean.apply(abbreviate_state, axis=1)"
      ],
      "execution_count": 0,
      "outputs": []
    },
    {
      "cell_type": "code",
      "metadata": {
        "id": "eOA58lK3PA16",
        "colab_type": "code",
        "colab": {
          "base_uri": "https://localhost:8080/",
          "height": 867
        },
        "outputId": "1c6329fa-52dd-4f29-d507-4d249fc78675"
      },
      "source": [
        "patients_clean.state.value_counts()"
      ],
      "execution_count": 87,
      "outputs": [
        {
          "output_type": "execute_result",
          "data": {
            "text/plain": [
              "CA    60\n",
              "NY    47\n",
              "TX    32\n",
              "IL    24\n",
              "MA    22\n",
              "FL    22\n",
              "PA    18\n",
              "GA    15\n",
              "OH    14\n",
              "OK    13\n",
              "MI    13\n",
              "LA    13\n",
              "NJ    12\n",
              "VA    11\n",
              "MS    10\n",
              "WI    10\n",
              "MN     9\n",
              "AL     9\n",
              "TN     9\n",
              "IN     9\n",
              "WA     8\n",
              "NC     8\n",
              "KY     8\n",
              "MO     7\n",
              "NV     6\n",
              "KS     6\n",
              "ID     6\n",
              "NE     6\n",
              "CT     5\n",
              "IA     5\n",
              "SC     5\n",
              "CO     4\n",
              "AR     4\n",
              "AZ     4\n",
              "RI     4\n",
              "ND     4\n",
              "ME     4\n",
              "SD     3\n",
              "DE     3\n",
              "OR     3\n",
              "WV     3\n",
              "MD     3\n",
              "MT     2\n",
              "VT     2\n",
              "DC     2\n",
              "NM     1\n",
              "NH     1\n",
              "WY     1\n",
              "AK     1\n",
              "Name: state, dtype: int64"
            ]
          },
          "metadata": {
            "tags": []
          },
          "execution_count": 87
        }
      ]
    },
    {
      "cell_type": "code",
      "metadata": {
        "id": "gdYpprrKPh65",
        "colab_type": "code",
        "colab": {}
      },
      "source": [
        "patients_clean.assigned_sex=patients_clean.assigned_sex.astype('category')\n",
        "patients_clean.state=patients_clean.state.astype('category')"
      ],
      "execution_count": 0,
      "outputs": []
    },
    {
      "cell_type": "code",
      "metadata": {
        "id": "TIpUgd6yQTh2",
        "colab_type": "code",
        "colab": {
          "base_uri": "https://localhost:8080/",
          "height": 357
        },
        "outputId": "8e052271-c2a4-4cc4-fcca-06258a2ab399"
      },
      "source": [
        "patients_clean.info()"
      ],
      "execution_count": 89,
      "outputs": [
        {
          "output_type": "stream",
          "text": [
            "<class 'pandas.core.frame.DataFrame'>\n",
            "RangeIndex: 503 entries, 0 to 502\n",
            "Data columns (total 15 columns):\n",
            "patient_id      503 non-null int64\n",
            "assigned_sex    503 non-null category\n",
            "given_name      503 non-null object\n",
            "surname         503 non-null object\n",
            "address         491 non-null object\n",
            "city            491 non-null object\n",
            "state           491 non-null category\n",
            "zip_code        489 non-null object\n",
            "country         491 non-null object\n",
            "birthdate       503 non-null datetime64[ns]\n",
            "weight          503 non-null float64\n",
            "height          503 non-null int64\n",
            "bmi             503 non-null float64\n",
            "phone_number    491 non-null object\n",
            "email           491 non-null object\n",
            "dtypes: category(2), datetime64[ns](1), float64(2), int64(2), object(8)\n",
            "memory usage: 53.9+ KB\n"
          ],
          "name": "stdout"
        }
      ]
    },
    {
      "cell_type": "code",
      "metadata": {
        "id": "Z72BokvhQeno",
        "colab_type": "code",
        "colab": {}
      },
      "source": [
        "patients_clean.phone_number = patients_clean.phone_number.str.replace(r'\\D+', '').str.pad(11, fillchar='1')"
      ],
      "execution_count": 0,
      "outputs": []
    },
    {
      "cell_type": "code",
      "metadata": {
        "id": "JnNLRwvoQwKs",
        "colab_type": "code",
        "colab": {
          "base_uri": "https://localhost:8080/",
          "height": 119
        },
        "outputId": "10b37fcd-50be-4842-beab-3504d9741791"
      },
      "source": [
        "patients_clean.phone_number.head()"
      ],
      "execution_count": 91,
      "outputs": [
        {
          "output_type": "execute_result",
          "data": {
            "text/plain": [
              "0    19517199170\n",
              "1    12175693204\n",
              "2    14023636804\n",
              "3    17326368246\n",
              "4    13345157487\n",
              "Name: phone_number, dtype: object"
            ]
          },
          "metadata": {
            "tags": []
          },
          "execution_count": 91
        }
      ]
    },
    {
      "cell_type": "code",
      "metadata": {
        "id": "56BaLT4DQ4uO",
        "colab_type": "code",
        "colab": {}
      },
      "source": [
        "patients_clean = patients_clean[patients_clean.surname != 'Doe']"
      ],
      "execution_count": 0,
      "outputs": []
    },
    {
      "cell_type": "code",
      "metadata": {
        "id": "YTgx_i8YRHAX",
        "colab_type": "code",
        "colab": {
          "base_uri": "https://localhost:8080/",
          "height": 221
        },
        "outputId": "cfbdfabc-25c7-419e-a76f-42a0b3708c99"
      },
      "source": [
        "# Should be no Doe records\n",
        "patients_clean.surname.value_counts()"
      ],
      "execution_count": 93,
      "outputs": [
        {
          "output_type": "execute_result",
          "data": {
            "text/plain": [
              "Jakobsen      3\n",
              "Taylor        3\n",
              "Johnson       2\n",
              "Tucker        2\n",
              "Schiavone     2\n",
              "             ..\n",
              "Hsu           1\n",
              "Wiśniewska    1\n",
              "Koldenhof     1\n",
              "Azevedo       1\n",
              "Gunnarsson    1\n",
              "Name: surname, Length: 465, dtype: int64"
            ]
          },
          "metadata": {
            "tags": []
          },
          "execution_count": 93
        }
      ]
    },
    {
      "cell_type": "code",
      "metadata": {
        "id": "7RBaQgdmRLln",
        "colab_type": "code",
        "colab": {
          "base_uri": "https://localhost:8080/",
          "height": 264
        },
        "outputId": "915239c2-2fe2-4958-98e9-06452d76c310"
      },
      "source": [
        "patients_clean.query('surname==\"Jakobsen\"')"
      ],
      "execution_count": 94,
      "outputs": [
        {
          "output_type": "execute_result",
          "data": {
            "text/html": [
              "<div>\n",
              "<style scoped>\n",
              "    .dataframe tbody tr th:only-of-type {\n",
              "        vertical-align: middle;\n",
              "    }\n",
              "\n",
              "    .dataframe tbody tr th {\n",
              "        vertical-align: top;\n",
              "    }\n",
              "\n",
              "    .dataframe thead th {\n",
              "        text-align: right;\n",
              "    }\n",
              "</style>\n",
              "<table border=\"1\" class=\"dataframe\">\n",
              "  <thead>\n",
              "    <tr style=\"text-align: right;\">\n",
              "      <th></th>\n",
              "      <th>patient_id</th>\n",
              "      <th>assigned_sex</th>\n",
              "      <th>given_name</th>\n",
              "      <th>surname</th>\n",
              "      <th>address</th>\n",
              "      <th>city</th>\n",
              "      <th>state</th>\n",
              "      <th>zip_code</th>\n",
              "      <th>country</th>\n",
              "      <th>birthdate</th>\n",
              "      <th>weight</th>\n",
              "      <th>height</th>\n",
              "      <th>bmi</th>\n",
              "      <th>phone_number</th>\n",
              "      <th>email</th>\n",
              "    </tr>\n",
              "  </thead>\n",
              "  <tbody>\n",
              "    <tr>\n",
              "      <th>24</th>\n",
              "      <td>25</td>\n",
              "      <td>male</td>\n",
              "      <td>Jakob</td>\n",
              "      <td>Jakobsen</td>\n",
              "      <td>648 Old Dear Lane</td>\n",
              "      <td>Port Jervis</td>\n",
              "      <td>NY</td>\n",
              "      <td>12771</td>\n",
              "      <td>United States</td>\n",
              "      <td>1985-08-01</td>\n",
              "      <td>155.8</td>\n",
              "      <td>67</td>\n",
              "      <td>24.4</td>\n",
              "      <td>18458587707</td>\n",
              "      <td>JakobCJakobsen@einrot.com</td>\n",
              "    </tr>\n",
              "    <tr>\n",
              "      <th>29</th>\n",
              "      <td>30</td>\n",
              "      <td>male</td>\n",
              "      <td>Jake</td>\n",
              "      <td>Jakobsen</td>\n",
              "      <td>648 Old Dear Lane</td>\n",
              "      <td>Port Jervis</td>\n",
              "      <td>NY</td>\n",
              "      <td>12771</td>\n",
              "      <td>United States</td>\n",
              "      <td>1985-08-01</td>\n",
              "      <td>155.8</td>\n",
              "      <td>67</td>\n",
              "      <td>24.4</td>\n",
              "      <td>18458587707</td>\n",
              "      <td>JakobCJakobsen@einrot.com</td>\n",
              "    </tr>\n",
              "    <tr>\n",
              "      <th>432</th>\n",
              "      <td>433</td>\n",
              "      <td>female</td>\n",
              "      <td>Karen</td>\n",
              "      <td>Jakobsen</td>\n",
              "      <td>1690 Fannie Street</td>\n",
              "      <td>Houston</td>\n",
              "      <td>TX</td>\n",
              "      <td>77020</td>\n",
              "      <td>United States</td>\n",
              "      <td>1962-11-25</td>\n",
              "      <td>185.2</td>\n",
              "      <td>67</td>\n",
              "      <td>29.0</td>\n",
              "      <td>19792030438</td>\n",
              "      <td>KarenJakobsen@jourrapide.com</td>\n",
              "    </tr>\n",
              "  </tbody>\n",
              "</table>\n",
              "</div>"
            ],
            "text/plain": [
              "     patient_id assigned_sex  ... phone_number                         email\n",
              "24           25         male  ...  18458587707     JakobCJakobsen@einrot.com\n",
              "29           30         male  ...  18458587707     JakobCJakobsen@einrot.com\n",
              "432         433       female  ...  19792030438  KarenJakobsen@jourrapide.com\n",
              "\n",
              "[3 rows x 15 columns]"
            ]
          },
          "metadata": {
            "tags": []
          },
          "execution_count": 94
        }
      ]
    },
    {
      "cell_type": "code",
      "metadata": {
        "id": "6r3udCrPTXxG",
        "colab_type": "code",
        "colab": {}
      },
      "source": [
        "# tilde means not: http://pandas.pydata.org/pandas-docs/stable/indexing.html#boolean-indexing\n",
        "patients_clean = patients_clean[~((patients_clean.address.duplicated()) & patients_clean.address.notnull())]"
      ],
      "execution_count": 0,
      "outputs": []
    },
    {
      "cell_type": "code",
      "metadata": {
        "id": "zmoViTHaUA1a",
        "colab_type": "code",
        "colab": {}
      },
      "source": [
        "mask = patients_clean.surname == 'Zaitseva'\n",
        "column_name = 'weight'\n",
        "patients_clean.loc[mask, column_name] = patients_clean.loc[mask, column_name] * 2.20462"
      ],
      "execution_count": 0,
      "outputs": []
    },
    {
      "cell_type": "code",
      "metadata": {
        "id": "T-EFGU4RU7Gz",
        "colab_type": "code",
        "colab": {}
      },
      "source": [
        ""
      ],
      "execution_count": 0,
      "outputs": []
    }
  ]
}